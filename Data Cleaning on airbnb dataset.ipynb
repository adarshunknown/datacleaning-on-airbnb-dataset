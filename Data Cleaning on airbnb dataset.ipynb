{
 "cells": [
  {
   "cell_type": "code",
   "execution_count": 393,
   "id": "cf390204-0c29-48cb-9338-c5060d9044da",
   "metadata": {},
   "outputs": [
    {
     "name": "stderr",
     "output_type": "stream",
     "text": [
      "C:\\Users\\pc\\AppData\\Local\\Temp\\ipykernel_3148\\2905357050.py:2: DtypeWarning: Columns (11,25) have mixed types. Specify dtype option on import or set low_memory=False.\n",
      "  d=pd.read_csv(\"Airbnb_Open_Data.csv\")\n"
     ]
    }
   ],
   "source": [
    "import pandas as pd\n",
    "d=pd.read_csv(\"Airbnb_Open_Data.csv\")\n"
   ]
  },
  {
   "cell_type": "code",
   "execution_count": 394,
   "id": "0ba72e22-a321-410d-8534-abc43c40a1c0",
   "metadata": {},
   "outputs": [
    {
     "data": {
      "text/html": [
       "<div>\n",
       "<style scoped>\n",
       "    .dataframe tbody tr th:only-of-type {\n",
       "        vertical-align: middle;\n",
       "    }\n",
       "\n",
       "    .dataframe tbody tr th {\n",
       "        vertical-align: top;\n",
       "    }\n",
       "\n",
       "    .dataframe thead th {\n",
       "        text-align: right;\n",
       "    }\n",
       "</style>\n",
       "<table border=\"1\" class=\"dataframe\">\n",
       "  <thead>\n",
       "    <tr style=\"text-align: right;\">\n",
       "      <th></th>\n",
       "      <th>id</th>\n",
       "      <th>NAME</th>\n",
       "      <th>host id</th>\n",
       "      <th>host_identity_verified</th>\n",
       "      <th>host name</th>\n",
       "      <th>neighbourhood group</th>\n",
       "      <th>neighbourhood</th>\n",
       "      <th>lat</th>\n",
       "      <th>long</th>\n",
       "      <th>country</th>\n",
       "      <th>...</th>\n",
       "      <th>service fee</th>\n",
       "      <th>minimum nights</th>\n",
       "      <th>number of reviews</th>\n",
       "      <th>last review</th>\n",
       "      <th>reviews per month</th>\n",
       "      <th>review rate number</th>\n",
       "      <th>calculated host listings count</th>\n",
       "      <th>availability 365</th>\n",
       "      <th>house_rules</th>\n",
       "      <th>license</th>\n",
       "    </tr>\n",
       "  </thead>\n",
       "  <tbody>\n",
       "    <tr>\n",
       "      <th>0</th>\n",
       "      <td>1001254</td>\n",
       "      <td>Clean &amp; quiet apt home by the park</td>\n",
       "      <td>80014485718</td>\n",
       "      <td>unconfirmed</td>\n",
       "      <td>Madaline</td>\n",
       "      <td>Brooklyn</td>\n",
       "      <td>Kensington</td>\n",
       "      <td>40.64749</td>\n",
       "      <td>-73.97237</td>\n",
       "      <td>United States</td>\n",
       "      <td>...</td>\n",
       "      <td>$193</td>\n",
       "      <td>10.0</td>\n",
       "      <td>9.0</td>\n",
       "      <td>10/19/2021</td>\n",
       "      <td>0.21</td>\n",
       "      <td>4.0</td>\n",
       "      <td>6.0</td>\n",
       "      <td>286.0</td>\n",
       "      <td>Clean up and treat the home the way you'd like...</td>\n",
       "      <td>NaN</td>\n",
       "    </tr>\n",
       "    <tr>\n",
       "      <th>1</th>\n",
       "      <td>1002102</td>\n",
       "      <td>Skylit Midtown Castle</td>\n",
       "      <td>52335172823</td>\n",
       "      <td>verified</td>\n",
       "      <td>Jenna</td>\n",
       "      <td>Manhattan</td>\n",
       "      <td>Midtown</td>\n",
       "      <td>40.75362</td>\n",
       "      <td>-73.98377</td>\n",
       "      <td>United States</td>\n",
       "      <td>...</td>\n",
       "      <td>$28</td>\n",
       "      <td>30.0</td>\n",
       "      <td>45.0</td>\n",
       "      <td>5/21/2022</td>\n",
       "      <td>0.38</td>\n",
       "      <td>4.0</td>\n",
       "      <td>2.0</td>\n",
       "      <td>228.0</td>\n",
       "      <td>Pet friendly but please confirm with me if the...</td>\n",
       "      <td>NaN</td>\n",
       "    </tr>\n",
       "    <tr>\n",
       "      <th>2</th>\n",
       "      <td>1002403</td>\n",
       "      <td>THE VILLAGE OF HARLEM....NEW YORK !</td>\n",
       "      <td>78829239556</td>\n",
       "      <td>NaN</td>\n",
       "      <td>Elise</td>\n",
       "      <td>Manhattan</td>\n",
       "      <td>Harlem</td>\n",
       "      <td>40.80902</td>\n",
       "      <td>-73.94190</td>\n",
       "      <td>United States</td>\n",
       "      <td>...</td>\n",
       "      <td>$124</td>\n",
       "      <td>3.0</td>\n",
       "      <td>0.0</td>\n",
       "      <td>NaN</td>\n",
       "      <td>NaN</td>\n",
       "      <td>5.0</td>\n",
       "      <td>1.0</td>\n",
       "      <td>352.0</td>\n",
       "      <td>I encourage you to use my kitchen, cooking and...</td>\n",
       "      <td>NaN</td>\n",
       "    </tr>\n",
       "    <tr>\n",
       "      <th>3</th>\n",
       "      <td>1002755</td>\n",
       "      <td>NaN</td>\n",
       "      <td>85098326012</td>\n",
       "      <td>unconfirmed</td>\n",
       "      <td>Garry</td>\n",
       "      <td>Brooklyn</td>\n",
       "      <td>Clinton Hill</td>\n",
       "      <td>40.68514</td>\n",
       "      <td>-73.95976</td>\n",
       "      <td>United States</td>\n",
       "      <td>...</td>\n",
       "      <td>$74</td>\n",
       "      <td>30.0</td>\n",
       "      <td>270.0</td>\n",
       "      <td>7/5/2019</td>\n",
       "      <td>4.64</td>\n",
       "      <td>4.0</td>\n",
       "      <td>1.0</td>\n",
       "      <td>322.0</td>\n",
       "      <td>NaN</td>\n",
       "      <td>NaN</td>\n",
       "    </tr>\n",
       "    <tr>\n",
       "      <th>4</th>\n",
       "      <td>1003689</td>\n",
       "      <td>Entire Apt: Spacious Studio/Loft by central park</td>\n",
       "      <td>92037596077</td>\n",
       "      <td>verified</td>\n",
       "      <td>Lyndon</td>\n",
       "      <td>Manhattan</td>\n",
       "      <td>East Harlem</td>\n",
       "      <td>40.79851</td>\n",
       "      <td>-73.94399</td>\n",
       "      <td>United States</td>\n",
       "      <td>...</td>\n",
       "      <td>$41</td>\n",
       "      <td>10.0</td>\n",
       "      <td>9.0</td>\n",
       "      <td>11/19/2018</td>\n",
       "      <td>0.10</td>\n",
       "      <td>3.0</td>\n",
       "      <td>1.0</td>\n",
       "      <td>289.0</td>\n",
       "      <td>Please no smoking in the house, porch or on th...</td>\n",
       "      <td>NaN</td>\n",
       "    </tr>\n",
       "    <tr>\n",
       "      <th>...</th>\n",
       "      <td>...</td>\n",
       "      <td>...</td>\n",
       "      <td>...</td>\n",
       "      <td>...</td>\n",
       "      <td>...</td>\n",
       "      <td>...</td>\n",
       "      <td>...</td>\n",
       "      <td>...</td>\n",
       "      <td>...</td>\n",
       "      <td>...</td>\n",
       "      <td>...</td>\n",
       "      <td>...</td>\n",
       "      <td>...</td>\n",
       "      <td>...</td>\n",
       "      <td>...</td>\n",
       "      <td>...</td>\n",
       "      <td>...</td>\n",
       "      <td>...</td>\n",
       "      <td>...</td>\n",
       "      <td>...</td>\n",
       "      <td>...</td>\n",
       "    </tr>\n",
       "    <tr>\n",
       "      <th>36734</th>\n",
       "      <td>21289524</td>\n",
       "      <td>Quick walk to L Train, Free Cleaning &amp; WiFi!</td>\n",
       "      <td>83952723770</td>\n",
       "      <td>unconfirmed</td>\n",
       "      <td>Martin &amp; Steve</td>\n",
       "      <td>Brooklyn</td>\n",
       "      <td>Williamsburg</td>\n",
       "      <td>40.71260</td>\n",
       "      <td>-73.93982</td>\n",
       "      <td>United States</td>\n",
       "      <td>...</td>\n",
       "      <td>$34</td>\n",
       "      <td>30.0</td>\n",
       "      <td>1.0</td>\n",
       "      <td>6/9/2019</td>\n",
       "      <td>1.00</td>\n",
       "      <td>4.0</td>\n",
       "      <td>1.0</td>\n",
       "      <td>84.0</td>\n",
       "      <td>NaN</td>\n",
       "      <td>NaN</td>\n",
       "    </tr>\n",
       "    <tr>\n",
       "      <th>36735</th>\n",
       "      <td>21290077</td>\n",
       "      <td>Cozy room in Brooklyn. 40 min to Manhattan.</td>\n",
       "      <td>44927915830</td>\n",
       "      <td>verified</td>\n",
       "      <td>Boris</td>\n",
       "      <td>Brooklyn</td>\n",
       "      <td>Bensonhurst</td>\n",
       "      <td>40.61023</td>\n",
       "      <td>-73.99627</td>\n",
       "      <td>United States</td>\n",
       "      <td>...</td>\n",
       "      <td>$92</td>\n",
       "      <td>1.0</td>\n",
       "      <td>0.0</td>\n",
       "      <td>NaN</td>\n",
       "      <td>NaN</td>\n",
       "      <td>5.0</td>\n",
       "      <td>1.0</td>\n",
       "      <td>0.0</td>\n",
       "      <td>NaN</td>\n",
       "      <td>NaN</td>\n",
       "    </tr>\n",
       "    <tr>\n",
       "      <th>36736</th>\n",
       "      <td>21290629</td>\n",
       "      <td>GORGEOUS APARTMENT, PERFECT HARLEM LOCATION!</td>\n",
       "      <td>75629331969</td>\n",
       "      <td>unconfirmed</td>\n",
       "      <td>Patrice</td>\n",
       "      <td>Manhattan</td>\n",
       "      <td>Harlem</td>\n",
       "      <td>40.80055</td>\n",
       "      <td>-73.95501</td>\n",
       "      <td>United States</td>\n",
       "      <td>...</td>\n",
       "      <td>$200</td>\n",
       "      <td>3.0</td>\n",
       "      <td>16.0</td>\n",
       "      <td>6/14/2019</td>\n",
       "      <td>2.22</td>\n",
       "      <td>5.0</td>\n",
       "      <td>1.0</td>\n",
       "      <td>50.0</td>\n",
       "      <td>NaN</td>\n",
       "      <td>NaN</td>\n",
       "    </tr>\n",
       "    <tr>\n",
       "      <th>36737</th>\n",
       "      <td>21291181</td>\n",
       "      <td>Room in a Lovely Apartment in Upper East Side</td>\n",
       "      <td>52222576074</td>\n",
       "      <td>unconfirmed</td>\n",
       "      <td>Amanda &amp; Rafael</td>\n",
       "      <td>Manhattan</td>\n",
       "      <td>Upper East Side</td>\n",
       "      <td>40.76869</td>\n",
       "      <td>-73.95007</td>\n",
       "      <td>United States</td>\n",
       "      <td>...</td>\n",
       "      <td>$233</td>\n",
       "      <td>2.0</td>\n",
       "      <td>8.0</td>\n",
       "      <td>2/10/2019</td>\n",
       "      <td>0.92</td>\n",
       "      <td>3.0</td>\n",
       "      <td>1.0</td>\n",
       "      <td>0.0</td>\n",
       "      <td>NaN</td>\n",
       "      <td>NaN</td>\n",
       "    </tr>\n",
       "    <tr>\n",
       "      <th>36738</th>\n",
       "      <td>21291733</td>\n",
       "      <td>Spacious apartment in front of Prospect Park</td>\n",
       "      <td>12167676268</td>\n",
       "      <td>verified</td>\n",
       "      <td>Slava</td>\n",
       "      <td>Brooklyn</td>\n",
       "      <td>Crown Heights</td>\n",
       "      <td>40.66392</td>\n",
       "      <td>-73.95994</td>\n",
       "      <td>United States</td>\n",
       "      <td>...</td>\n",
       "      <td>NaN</td>\n",
       "      <td>NaN</td>\n",
       "      <td>NaN</td>\n",
       "      <td>NaN</td>\n",
       "      <td>NaN</td>\n",
       "      <td>NaN</td>\n",
       "      <td>NaN</td>\n",
       "      <td>NaN</td>\n",
       "      <td>NaN</td>\n",
       "      <td>NaN</td>\n",
       "    </tr>\n",
       "  </tbody>\n",
       "</table>\n",
       "<p>36739 rows × 26 columns</p>\n",
       "</div>"
      ],
      "text/plain": [
       "             id                                              NAME  \\\n",
       "0       1001254                Clean & quiet apt home by the park   \n",
       "1       1002102                             Skylit Midtown Castle   \n",
       "2       1002403               THE VILLAGE OF HARLEM....NEW YORK !   \n",
       "3       1002755                                               NaN   \n",
       "4       1003689  Entire Apt: Spacious Studio/Loft by central park   \n",
       "...         ...                                               ...   \n",
       "36734  21289524      Quick walk to L Train, Free Cleaning & WiFi!   \n",
       "36735  21290077       Cozy room in Brooklyn. 40 min to Manhattan.   \n",
       "36736  21290629      GORGEOUS APARTMENT, PERFECT HARLEM LOCATION!   \n",
       "36737  21291181     Room in a Lovely Apartment in Upper East Side   \n",
       "36738  21291733      Spacious apartment in front of Prospect Park   \n",
       "\n",
       "           host id host_identity_verified        host name  \\\n",
       "0      80014485718            unconfirmed         Madaline   \n",
       "1      52335172823               verified            Jenna   \n",
       "2      78829239556                    NaN            Elise   \n",
       "3      85098326012            unconfirmed            Garry   \n",
       "4      92037596077               verified           Lyndon   \n",
       "...            ...                    ...              ...   \n",
       "36734  83952723770            unconfirmed   Martin & Steve   \n",
       "36735  44927915830               verified            Boris   \n",
       "36736  75629331969            unconfirmed          Patrice   \n",
       "36737  52222576074            unconfirmed  Amanda & Rafael   \n",
       "36738  12167676268               verified            Slava   \n",
       "\n",
       "      neighbourhood group    neighbourhood       lat      long        country  \\\n",
       "0                Brooklyn       Kensington  40.64749 -73.97237  United States   \n",
       "1               Manhattan          Midtown  40.75362 -73.98377  United States   \n",
       "2               Manhattan           Harlem  40.80902 -73.94190  United States   \n",
       "3                Brooklyn     Clinton Hill  40.68514 -73.95976  United States   \n",
       "4               Manhattan      East Harlem  40.79851 -73.94399  United States   \n",
       "...                   ...              ...       ...       ...            ...   \n",
       "36734            Brooklyn     Williamsburg  40.71260 -73.93982  United States   \n",
       "36735            Brooklyn      Bensonhurst  40.61023 -73.99627  United States   \n",
       "36736           Manhattan           Harlem  40.80055 -73.95501  United States   \n",
       "36737           Manhattan  Upper East Side  40.76869 -73.95007  United States   \n",
       "36738            Brooklyn    Crown Heights  40.66392 -73.95994  United States   \n",
       "\n",
       "       ... service fee minimum nights number of reviews last review  \\\n",
       "0      ...       $193            10.0               9.0  10/19/2021   \n",
       "1      ...        $28            30.0              45.0   5/21/2022   \n",
       "2      ...       $124             3.0               0.0         NaN   \n",
       "3      ...        $74            30.0             270.0    7/5/2019   \n",
       "4      ...        $41            10.0               9.0  11/19/2018   \n",
       "...    ...         ...            ...               ...         ...   \n",
       "36734  ...        $34            30.0               1.0    6/9/2019   \n",
       "36735  ...        $92             1.0               0.0         NaN   \n",
       "36736  ...       $200             3.0              16.0   6/14/2019   \n",
       "36737  ...       $233             2.0               8.0   2/10/2019   \n",
       "36738  ...         NaN            NaN               NaN         NaN   \n",
       "\n",
       "       reviews per month review rate number calculated host listings count  \\\n",
       "0                   0.21                4.0                            6.0   \n",
       "1                   0.38                4.0                            2.0   \n",
       "2                    NaN                5.0                            1.0   \n",
       "3                   4.64                4.0                            1.0   \n",
       "4                   0.10                3.0                            1.0   \n",
       "...                  ...                ...                            ...   \n",
       "36734               1.00                4.0                            1.0   \n",
       "36735                NaN                5.0                            1.0   \n",
       "36736               2.22                5.0                            1.0   \n",
       "36737               0.92                3.0                            1.0   \n",
       "36738                NaN                NaN                            NaN   \n",
       "\n",
       "       availability 365                                        house_rules  \\\n",
       "0                 286.0  Clean up and treat the home the way you'd like...   \n",
       "1                 228.0  Pet friendly but please confirm with me if the...   \n",
       "2                 352.0  I encourage you to use my kitchen, cooking and...   \n",
       "3                 322.0                                                NaN   \n",
       "4                 289.0  Please no smoking in the house, porch or on th...   \n",
       "...                 ...                                                ...   \n",
       "36734              84.0                                                NaN   \n",
       "36735               0.0                                                NaN   \n",
       "36736              50.0                                                NaN   \n",
       "36737               0.0                                                NaN   \n",
       "36738               NaN                                                NaN   \n",
       "\n",
       "      license  \n",
       "0         NaN  \n",
       "1         NaN  \n",
       "2         NaN  \n",
       "3         NaN  \n",
       "4         NaN  \n",
       "...       ...  \n",
       "36734     NaN  \n",
       "36735     NaN  \n",
       "36736     NaN  \n",
       "36737     NaN  \n",
       "36738     NaN  \n",
       "\n",
       "[36739 rows x 26 columns]"
      ]
     },
     "execution_count": 394,
     "metadata": {},
     "output_type": "execute_result"
    }
   ],
   "source": [
    "d"
   ]
  },
  {
   "cell_type": "code",
   "execution_count": 395,
   "id": "0b8a0a0d-4ecc-40d3-95a6-28cb472bc641",
   "metadata": {},
   "outputs": [
    {
     "data": {
      "text/plain": [
       "0"
      ]
     },
     "execution_count": 395,
     "metadata": {},
     "output_type": "execute_result"
    }
   ],
   "source": [
    "d[\"id\"].duplicated().sum()"
   ]
  },
  {
   "cell_type": "code",
   "execution_count": 99,
   "id": "cabf102b-2a54-4e17-8158-1f6a44ca8359",
   "metadata": {},
   "outputs": [
    {
     "data": {
      "text/plain": [
       "0"
      ]
     },
     "execution_count": 99,
     "metadata": {},
     "output_type": "execute_result"
    }
   ],
   "source": [
    "d.duplicated().sum()"
   ]
  },
  {
   "cell_type": "code",
   "execution_count": 70,
   "id": "e2d2d9d9-4564-41a7-a1e9-6446da9cfb84",
   "metadata": {},
   "outputs": [
    {
     "data": {
      "text/plain": [
       "Index(['id', 'NAME', 'host id', 'host_identity_verified', 'host name',\n",
       "       'neighbourhood group', 'neighbourhood', 'lat', 'long', 'country',\n",
       "       'country code', 'instant_bookable', 'cancellation_policy', 'room type',\n",
       "       'Construction year', 'price', 'service fee', 'minimum nights',\n",
       "       'number of reviews', 'last review', 'reviews per month',\n",
       "       'review rate number', 'calculated host listings count',\n",
       "       'availability 365', 'house_rules', 'license'],\n",
       "      dtype='object')"
      ]
     },
     "execution_count": 70,
     "metadata": {},
     "output_type": "execute_result"
    }
   ],
   "source": [
    "d.columns"
   ]
  },
  {
   "cell_type": "code",
   "execution_count": 253,
   "id": "711ae250-edb8-4588-979b-89f4f1988ce8",
   "metadata": {},
   "outputs": [
    {
     "name": "stdout",
     "output_type": "stream",
     "text": [
      "<class 'pandas.core.frame.DataFrame'>\n",
      "RangeIndex: 36739 entries, 0 to 36738\n",
      "Data columns (total 26 columns):\n",
      " #   Column                          Non-Null Count  Dtype  \n",
      "---  ------                          --------------  -----  \n",
      " 0   id                              36739 non-null  int64  \n",
      " 1   NAME                            36613 non-null  object \n",
      " 2   host id                         36739 non-null  int64  \n",
      " 3   host_identity_verified          36581 non-null  object \n",
      " 4   host name                       36507 non-null  object \n",
      " 5   neighbourhood group             36712 non-null  object \n",
      " 6   neighbourhood                   36723 non-null  object \n",
      " 7   lat                             36731 non-null  float64\n",
      " 8   long                            36731 non-null  float64\n",
      " 9   country                         36652 non-null  object \n",
      " 10  country code                    36660 non-null  object \n",
      " 11  instant_bookable                36660 non-null  object \n",
      " 12  cancellation_policy             36689 non-null  object \n",
      " 13  room type                       36739 non-null  object \n",
      " 14  Construction year               36593 non-null  float64\n",
      " 15  price                           36641 non-null  object \n",
      " 16  service fee                     36652 non-null  object \n",
      " 17  minimum nights                  36541 non-null  float64\n",
      " 18  number of reviews               36704 non-null  float64\n",
      " 19  last review                     30871 non-null  object \n",
      " 20  reviews per month               30885 non-null  float64\n",
      " 21  review rate number              36615 non-null  float64\n",
      " 22  calculated host listings count  36655 non-null  float64\n",
      " 23  availability 365                36560 non-null  float64\n",
      " 24  house_rules                     24548 non-null  object \n",
      " 25  license                         1 non-null      object \n",
      "dtypes: float64(9), int64(2), object(15)\n",
      "memory usage: 7.3+ MB\n"
     ]
    }
   ],
   "source": [
    "d.info()"
   ]
  },
  {
   "cell_type": "code",
   "execution_count": 100,
   "id": "503fbc9f-2c19-48ad-b0a1-2e83f12090b6",
   "metadata": {},
   "outputs": [
    {
     "data": {
      "text/plain": [
       "id                                    0\n",
       "NAME                                126\n",
       "host id                               0\n",
       "host_identity_verified              158\n",
       "host name                           232\n",
       "neighbourhood group                  27\n",
       "neighbourhood                        16\n",
       "lat                                   8\n",
       "long                                  8\n",
       "country                              87\n",
       "country code                         79\n",
       "instant_bookable                     79\n",
       "cancellation_policy                  50\n",
       "room type                             0\n",
       "Construction year                   146\n",
       "price                                98\n",
       "service fee                          87\n",
       "minimum nights                      198\n",
       "number of reviews                    35\n",
       "last review                        5868\n",
       "reviews per month                  5854\n",
       "review rate number                  124\n",
       "calculated host listings count       84\n",
       "availability 365                    179\n",
       "house_rules                       12191\n",
       "license                           36738\n",
       "dtype: int64"
      ]
     },
     "execution_count": 100,
     "metadata": {},
     "output_type": "execute_result"
    }
   ],
   "source": [
    "d.isnull().sum()"
   ]
  },
  {
   "cell_type": "code",
   "execution_count": 396,
   "id": "6e301b5d-007f-4a40-a725-feed117bd010",
   "metadata": {},
   "outputs": [],
   "source": [
    "d.dropna(subset=\"NAME\",inplace=True)"
   ]
  },
  {
   "cell_type": "code",
   "execution_count": 397,
   "id": "21b6f370-9a1b-4b66-b036-df48741a1521",
   "metadata": {},
   "outputs": [
    {
     "data": {
      "text/plain": [
       "0"
      ]
     },
     "execution_count": 397,
     "metadata": {},
     "output_type": "execute_result"
    }
   ],
   "source": [
    "d[\"NAME\"].isnull().sum()"
   ]
  },
  {
   "cell_type": "code",
   "execution_count": 398,
   "id": "0f52360f-0e42-4a58-b481-3f2a18efc178",
   "metadata": {},
   "outputs": [],
   "source": [
    "d[\"NAME\"]=d[\"NAME\"].str.strip()"
   ]
  },
  {
   "cell_type": "code",
   "execution_count": 104,
   "id": "f9cfb945-2445-4a0b-ae11-ee8f4e22e842",
   "metadata": {},
   "outputs": [
    {
     "data": {
      "text/html": [
       "<div>\n",
       "<style scoped>\n",
       "    .dataframe tbody tr th:only-of-type {\n",
       "        vertical-align: middle;\n",
       "    }\n",
       "\n",
       "    .dataframe tbody tr th {\n",
       "        vertical-align: top;\n",
       "    }\n",
       "\n",
       "    .dataframe thead th {\n",
       "        text-align: right;\n",
       "    }\n",
       "</style>\n",
       "<table border=\"1\" class=\"dataframe\">\n",
       "  <thead>\n",
       "    <tr style=\"text-align: right;\">\n",
       "      <th></th>\n",
       "      <th>id</th>\n",
       "      <th>NAME</th>\n",
       "      <th>host id</th>\n",
       "      <th>host_identity_verified</th>\n",
       "      <th>host name</th>\n",
       "      <th>neighbourhood group</th>\n",
       "      <th>neighbourhood</th>\n",
       "      <th>lat</th>\n",
       "      <th>long</th>\n",
       "      <th>country</th>\n",
       "      <th>...</th>\n",
       "      <th>service fee</th>\n",
       "      <th>minimum nights</th>\n",
       "      <th>number of reviews</th>\n",
       "      <th>last review</th>\n",
       "      <th>reviews per month</th>\n",
       "      <th>review rate number</th>\n",
       "      <th>calculated host listings count</th>\n",
       "      <th>availability 365</th>\n",
       "      <th>house_rules</th>\n",
       "      <th>license</th>\n",
       "    </tr>\n",
       "  </thead>\n",
       "  <tbody>\n",
       "    <tr>\n",
       "      <th>0</th>\n",
       "      <td>1001254</td>\n",
       "      <td>Clean &amp; quiet apt home by the park</td>\n",
       "      <td>80014485718</td>\n",
       "      <td>unconfirmed</td>\n",
       "      <td>Madaline</td>\n",
       "      <td>Brooklyn</td>\n",
       "      <td>Kensington</td>\n",
       "      <td>40.64749</td>\n",
       "      <td>-73.97237</td>\n",
       "      <td>United States</td>\n",
       "      <td>...</td>\n",
       "      <td>$193</td>\n",
       "      <td>10.0</td>\n",
       "      <td>9.0</td>\n",
       "      <td>10/19/2021</td>\n",
       "      <td>0.21</td>\n",
       "      <td>4.0</td>\n",
       "      <td>6.0</td>\n",
       "      <td>286.0</td>\n",
       "      <td>Clean up and treat the home the way you'd like...</td>\n",
       "      <td>NaN</td>\n",
       "    </tr>\n",
       "    <tr>\n",
       "      <th>1</th>\n",
       "      <td>1002102</td>\n",
       "      <td>Skylit Midtown Castle</td>\n",
       "      <td>52335172823</td>\n",
       "      <td>verified</td>\n",
       "      <td>Jenna</td>\n",
       "      <td>Manhattan</td>\n",
       "      <td>Midtown</td>\n",
       "      <td>40.75362</td>\n",
       "      <td>-73.98377</td>\n",
       "      <td>United States</td>\n",
       "      <td>...</td>\n",
       "      <td>$28</td>\n",
       "      <td>30.0</td>\n",
       "      <td>45.0</td>\n",
       "      <td>5/21/2022</td>\n",
       "      <td>0.38</td>\n",
       "      <td>4.0</td>\n",
       "      <td>2.0</td>\n",
       "      <td>228.0</td>\n",
       "      <td>Pet friendly but please confirm with me if the...</td>\n",
       "      <td>NaN</td>\n",
       "    </tr>\n",
       "    <tr>\n",
       "      <th>2</th>\n",
       "      <td>1002403</td>\n",
       "      <td>THE VILLAGE OF HARLEM....NEW YORK !</td>\n",
       "      <td>78829239556</td>\n",
       "      <td>NaN</td>\n",
       "      <td>Elise</td>\n",
       "      <td>Manhattan</td>\n",
       "      <td>Harlem</td>\n",
       "      <td>40.80902</td>\n",
       "      <td>-73.94190</td>\n",
       "      <td>United States</td>\n",
       "      <td>...</td>\n",
       "      <td>$124</td>\n",
       "      <td>3.0</td>\n",
       "      <td>0.0</td>\n",
       "      <td>NaN</td>\n",
       "      <td>NaN</td>\n",
       "      <td>5.0</td>\n",
       "      <td>1.0</td>\n",
       "      <td>352.0</td>\n",
       "      <td>I encourage you to use my kitchen, cooking and...</td>\n",
       "      <td>NaN</td>\n",
       "    </tr>\n",
       "    <tr>\n",
       "      <th>4</th>\n",
       "      <td>1003689</td>\n",
       "      <td>Entire Apt: Spacious Studio/Loft by central park</td>\n",
       "      <td>92037596077</td>\n",
       "      <td>verified</td>\n",
       "      <td>Lyndon</td>\n",
       "      <td>Manhattan</td>\n",
       "      <td>East Harlem</td>\n",
       "      <td>40.79851</td>\n",
       "      <td>-73.94399</td>\n",
       "      <td>United States</td>\n",
       "      <td>...</td>\n",
       "      <td>$41</td>\n",
       "      <td>10.0</td>\n",
       "      <td>9.0</td>\n",
       "      <td>11/19/2018</td>\n",
       "      <td>0.10</td>\n",
       "      <td>3.0</td>\n",
       "      <td>1.0</td>\n",
       "      <td>289.0</td>\n",
       "      <td>Please no smoking in the house, porch or on th...</td>\n",
       "      <td>NaN</td>\n",
       "    </tr>\n",
       "    <tr>\n",
       "      <th>5</th>\n",
       "      <td>1004098</td>\n",
       "      <td>Large Cozy 1 BR Apartment In Midtown East</td>\n",
       "      <td>45498551794</td>\n",
       "      <td>verified</td>\n",
       "      <td>Michelle</td>\n",
       "      <td>Manhattan</td>\n",
       "      <td>Murray Hill</td>\n",
       "      <td>40.74767</td>\n",
       "      <td>-73.97500</td>\n",
       "      <td>United States</td>\n",
       "      <td>...</td>\n",
       "      <td>$115</td>\n",
       "      <td>3.0</td>\n",
       "      <td>74.0</td>\n",
       "      <td>6/22/2019</td>\n",
       "      <td>0.59</td>\n",
       "      <td>3.0</td>\n",
       "      <td>1.0</td>\n",
       "      <td>374.0</td>\n",
       "      <td>No smoking, please, and no drugs.</td>\n",
       "      <td>NaN</td>\n",
       "    </tr>\n",
       "    <tr>\n",
       "      <th>...</th>\n",
       "      <td>...</td>\n",
       "      <td>...</td>\n",
       "      <td>...</td>\n",
       "      <td>...</td>\n",
       "      <td>...</td>\n",
       "      <td>...</td>\n",
       "      <td>...</td>\n",
       "      <td>...</td>\n",
       "      <td>...</td>\n",
       "      <td>...</td>\n",
       "      <td>...</td>\n",
       "      <td>...</td>\n",
       "      <td>...</td>\n",
       "      <td>...</td>\n",
       "      <td>...</td>\n",
       "      <td>...</td>\n",
       "      <td>...</td>\n",
       "      <td>...</td>\n",
       "      <td>...</td>\n",
       "      <td>...</td>\n",
       "      <td>...</td>\n",
       "    </tr>\n",
       "    <tr>\n",
       "      <th>36734</th>\n",
       "      <td>21289524</td>\n",
       "      <td>Quick walk to L Train, Free Cleaning &amp; WiFi!</td>\n",
       "      <td>83952723770</td>\n",
       "      <td>unconfirmed</td>\n",
       "      <td>Martin &amp; Steve</td>\n",
       "      <td>Brooklyn</td>\n",
       "      <td>Williamsburg</td>\n",
       "      <td>40.71260</td>\n",
       "      <td>-73.93982</td>\n",
       "      <td>United States</td>\n",
       "      <td>...</td>\n",
       "      <td>$34</td>\n",
       "      <td>30.0</td>\n",
       "      <td>1.0</td>\n",
       "      <td>6/9/2019</td>\n",
       "      <td>1.00</td>\n",
       "      <td>4.0</td>\n",
       "      <td>1.0</td>\n",
       "      <td>84.0</td>\n",
       "      <td>NaN</td>\n",
       "      <td>NaN</td>\n",
       "    </tr>\n",
       "    <tr>\n",
       "      <th>36735</th>\n",
       "      <td>21290077</td>\n",
       "      <td>Cozy room in Brooklyn. 40 min to Manhattan.</td>\n",
       "      <td>44927915830</td>\n",
       "      <td>verified</td>\n",
       "      <td>Boris</td>\n",
       "      <td>Brooklyn</td>\n",
       "      <td>Bensonhurst</td>\n",
       "      <td>40.61023</td>\n",
       "      <td>-73.99627</td>\n",
       "      <td>United States</td>\n",
       "      <td>...</td>\n",
       "      <td>$92</td>\n",
       "      <td>1.0</td>\n",
       "      <td>0.0</td>\n",
       "      <td>NaN</td>\n",
       "      <td>NaN</td>\n",
       "      <td>5.0</td>\n",
       "      <td>1.0</td>\n",
       "      <td>0.0</td>\n",
       "      <td>NaN</td>\n",
       "      <td>NaN</td>\n",
       "    </tr>\n",
       "    <tr>\n",
       "      <th>36736</th>\n",
       "      <td>21290629</td>\n",
       "      <td>GORGEOUS APARTMENT, PERFECT HARLEM LOCATION!</td>\n",
       "      <td>75629331969</td>\n",
       "      <td>unconfirmed</td>\n",
       "      <td>Patrice</td>\n",
       "      <td>Manhattan</td>\n",
       "      <td>Harlem</td>\n",
       "      <td>40.80055</td>\n",
       "      <td>-73.95501</td>\n",
       "      <td>United States</td>\n",
       "      <td>...</td>\n",
       "      <td>$200</td>\n",
       "      <td>3.0</td>\n",
       "      <td>16.0</td>\n",
       "      <td>6/14/2019</td>\n",
       "      <td>2.22</td>\n",
       "      <td>5.0</td>\n",
       "      <td>1.0</td>\n",
       "      <td>50.0</td>\n",
       "      <td>NaN</td>\n",
       "      <td>NaN</td>\n",
       "    </tr>\n",
       "    <tr>\n",
       "      <th>36737</th>\n",
       "      <td>21291181</td>\n",
       "      <td>Room in a Lovely Apartment in Upper East Side</td>\n",
       "      <td>52222576074</td>\n",
       "      <td>unconfirmed</td>\n",
       "      <td>Amanda &amp; Rafael</td>\n",
       "      <td>Manhattan</td>\n",
       "      <td>Upper East Side</td>\n",
       "      <td>40.76869</td>\n",
       "      <td>-73.95007</td>\n",
       "      <td>United States</td>\n",
       "      <td>...</td>\n",
       "      <td>$233</td>\n",
       "      <td>2.0</td>\n",
       "      <td>8.0</td>\n",
       "      <td>2/10/2019</td>\n",
       "      <td>0.92</td>\n",
       "      <td>3.0</td>\n",
       "      <td>1.0</td>\n",
       "      <td>0.0</td>\n",
       "      <td>NaN</td>\n",
       "      <td>NaN</td>\n",
       "    </tr>\n",
       "    <tr>\n",
       "      <th>36738</th>\n",
       "      <td>21291733</td>\n",
       "      <td>Spacious apartment in front of Prospect Park</td>\n",
       "      <td>12167676268</td>\n",
       "      <td>verified</td>\n",
       "      <td>Slava</td>\n",
       "      <td>Brooklyn</td>\n",
       "      <td>Crown Heights</td>\n",
       "      <td>40.66392</td>\n",
       "      <td>-73.95994</td>\n",
       "      <td>United States</td>\n",
       "      <td>...</td>\n",
       "      <td>NaN</td>\n",
       "      <td>NaN</td>\n",
       "      <td>NaN</td>\n",
       "      <td>NaN</td>\n",
       "      <td>NaN</td>\n",
       "      <td>NaN</td>\n",
       "      <td>NaN</td>\n",
       "      <td>NaN</td>\n",
       "      <td>NaN</td>\n",
       "      <td>NaN</td>\n",
       "    </tr>\n",
       "  </tbody>\n",
       "</table>\n",
       "<p>36613 rows × 26 columns</p>\n",
       "</div>"
      ],
      "text/plain": [
       "             id                                              NAME  \\\n",
       "0       1001254                Clean & quiet apt home by the park   \n",
       "1       1002102                             Skylit Midtown Castle   \n",
       "2       1002403               THE VILLAGE OF HARLEM....NEW YORK !   \n",
       "4       1003689  Entire Apt: Spacious Studio/Loft by central park   \n",
       "5       1004098         Large Cozy 1 BR Apartment In Midtown East   \n",
       "...         ...                                               ...   \n",
       "36734  21289524      Quick walk to L Train, Free Cleaning & WiFi!   \n",
       "36735  21290077       Cozy room in Brooklyn. 40 min to Manhattan.   \n",
       "36736  21290629      GORGEOUS APARTMENT, PERFECT HARLEM LOCATION!   \n",
       "36737  21291181     Room in a Lovely Apartment in Upper East Side   \n",
       "36738  21291733      Spacious apartment in front of Prospect Park   \n",
       "\n",
       "           host id host_identity_verified        host name  \\\n",
       "0      80014485718            unconfirmed         Madaline   \n",
       "1      52335172823               verified            Jenna   \n",
       "2      78829239556                    NaN            Elise   \n",
       "4      92037596077               verified           Lyndon   \n",
       "5      45498551794               verified         Michelle   \n",
       "...            ...                    ...              ...   \n",
       "36734  83952723770            unconfirmed   Martin & Steve   \n",
       "36735  44927915830               verified            Boris   \n",
       "36736  75629331969            unconfirmed          Patrice   \n",
       "36737  52222576074            unconfirmed  Amanda & Rafael   \n",
       "36738  12167676268               verified            Slava   \n",
       "\n",
       "      neighbourhood group    neighbourhood       lat      long        country  \\\n",
       "0                Brooklyn       Kensington  40.64749 -73.97237  United States   \n",
       "1               Manhattan          Midtown  40.75362 -73.98377  United States   \n",
       "2               Manhattan           Harlem  40.80902 -73.94190  United States   \n",
       "4               Manhattan      East Harlem  40.79851 -73.94399  United States   \n",
       "5               Manhattan      Murray Hill  40.74767 -73.97500  United States   \n",
       "...                   ...              ...       ...       ...            ...   \n",
       "36734            Brooklyn     Williamsburg  40.71260 -73.93982  United States   \n",
       "36735            Brooklyn      Bensonhurst  40.61023 -73.99627  United States   \n",
       "36736           Manhattan           Harlem  40.80055 -73.95501  United States   \n",
       "36737           Manhattan  Upper East Side  40.76869 -73.95007  United States   \n",
       "36738            Brooklyn    Crown Heights  40.66392 -73.95994  United States   \n",
       "\n",
       "       ... service fee minimum nights number of reviews last review  \\\n",
       "0      ...       $193            10.0               9.0  10/19/2021   \n",
       "1      ...        $28            30.0              45.0   5/21/2022   \n",
       "2      ...       $124             3.0               0.0         NaN   \n",
       "4      ...        $41            10.0               9.0  11/19/2018   \n",
       "5      ...       $115             3.0              74.0   6/22/2019   \n",
       "...    ...         ...            ...               ...         ...   \n",
       "36734  ...        $34            30.0               1.0    6/9/2019   \n",
       "36735  ...        $92             1.0               0.0         NaN   \n",
       "36736  ...       $200             3.0              16.0   6/14/2019   \n",
       "36737  ...       $233             2.0               8.0   2/10/2019   \n",
       "36738  ...         NaN            NaN               NaN         NaN   \n",
       "\n",
       "       reviews per month review rate number calculated host listings count  \\\n",
       "0                   0.21                4.0                            6.0   \n",
       "1                   0.38                4.0                            2.0   \n",
       "2                    NaN                5.0                            1.0   \n",
       "4                   0.10                3.0                            1.0   \n",
       "5                   0.59                3.0                            1.0   \n",
       "...                  ...                ...                            ...   \n",
       "36734               1.00                4.0                            1.0   \n",
       "36735                NaN                5.0                            1.0   \n",
       "36736               2.22                5.0                            1.0   \n",
       "36737               0.92                3.0                            1.0   \n",
       "36738                NaN                NaN                            NaN   \n",
       "\n",
       "       availability 365                                        house_rules  \\\n",
       "0                 286.0  Clean up and treat the home the way you'd like...   \n",
       "1                 228.0  Pet friendly but please confirm with me if the...   \n",
       "2                 352.0  I encourage you to use my kitchen, cooking and...   \n",
       "4                 289.0  Please no smoking in the house, porch or on th...   \n",
       "5                 374.0                  No smoking, please, and no drugs.   \n",
       "...                 ...                                                ...   \n",
       "36734              84.0                                                NaN   \n",
       "36735               0.0                                                NaN   \n",
       "36736              50.0                                                NaN   \n",
       "36737               0.0                                                NaN   \n",
       "36738               NaN                                                NaN   \n",
       "\n",
       "      license  \n",
       "0         NaN  \n",
       "1         NaN  \n",
       "2         NaN  \n",
       "4         NaN  \n",
       "5         NaN  \n",
       "...       ...  \n",
       "36734     NaN  \n",
       "36735     NaN  \n",
       "36736     NaN  \n",
       "36737     NaN  \n",
       "36738     NaN  \n",
       "\n",
       "[36613 rows x 26 columns]"
      ]
     },
     "execution_count": 104,
     "metadata": {},
     "output_type": "execute_result"
    }
   ],
   "source": [
    "d"
   ]
  },
  {
   "cell_type": "code",
   "execution_count": 105,
   "id": "a59a61b8-6671-43d0-8863-c24938860207",
   "metadata": {},
   "outputs": [
    {
     "data": {
      "text/plain": [
       "array(['Clean & quiet apt home by the park', 'Skylit Midtown Castle',\n",
       "       'THE VILLAGE OF HARLEM....NEW YORK !', ...,\n",
       "       'GORGEOUS APARTMENT, PERFECT HARLEM LOCATION!',\n",
       "       'Room in a Lovely Apartment in Upper East Side',\n",
       "       'Spacious apartment in front of Prospect Park'], dtype=object)"
      ]
     },
     "execution_count": 105,
     "metadata": {},
     "output_type": "execute_result"
    }
   ],
   "source": [
    "\n",
    "d[\"NAME\"].unique()"
   ]
  },
  {
   "cell_type": "code",
   "execution_count": 342,
   "id": "773af0c8-01ed-4dd5-8f58-3c20af5db8e0",
   "metadata": {},
   "outputs": [
    {
     "data": {
      "text/plain": [
       "673"
      ]
     },
     "execution_count": 342,
     "metadata": {},
     "output_type": "execute_result"
    }
   ],
   "source": [
    "d[\"NAME\"].duplicated().sum()"
   ]
  },
  {
   "cell_type": "code",
   "execution_count": 399,
   "id": "562b9175-75be-4266-9767-a02c94c818a2",
   "metadata": {},
   "outputs": [],
   "source": [
    "d.dropna(subset=\"NAME\",inplace=True)"
   ]
  },
  {
   "cell_type": "code",
   "execution_count": 348,
   "id": "6058d4cc-cd0f-4a65-999f-ddc66bedf841",
   "metadata": {},
   "outputs": [
    {
     "data": {
      "text/plain": [
       "0"
      ]
     },
     "execution_count": 348,
     "metadata": {},
     "output_type": "execute_result"
    }
   ],
   "source": [
    "d[\"NAME\"].isnull().sum()"
   ]
  },
  {
   "cell_type": "code",
   "execution_count": 400,
   "id": "751b5beb-96cd-4c49-87b0-a648f386ac3d",
   "metadata": {},
   "outputs": [],
   "source": [
    "import re\n",
    "def fun(n):\n",
    "    a= re.findall(r\"\\D+\",str(n))\n",
    "    if len(a)==0:\n",
    "        return \"\"\n",
    "    else:\n",
    "        return a[0]\n"
   ]
  },
  {
   "cell_type": "code",
   "execution_count": 401,
   "id": "c0ca50cc-cdab-4ef1-8c12-3902fd283410",
   "metadata": {},
   "outputs": [],
   "source": [
    "d[\"NAME\"]=d[\"NAME\"].apply(fun)\n"
   ]
  },
  {
   "cell_type": "code",
   "execution_count": 261,
   "id": "75a29223-65f9-4c6c-9345-bbb8ca2d0af4",
   "metadata": {},
   "outputs": [
    {
     "data": {
      "text/html": [
       "<div>\n",
       "<style scoped>\n",
       "    .dataframe tbody tr th:only-of-type {\n",
       "        vertical-align: middle;\n",
       "    }\n",
       "\n",
       "    .dataframe tbody tr th {\n",
       "        vertical-align: top;\n",
       "    }\n",
       "\n",
       "    .dataframe thead th {\n",
       "        text-align: right;\n",
       "    }\n",
       "</style>\n",
       "<table border=\"1\" class=\"dataframe\">\n",
       "  <thead>\n",
       "    <tr style=\"text-align: right;\">\n",
       "      <th></th>\n",
       "      <th>id</th>\n",
       "      <th>NAME</th>\n",
       "      <th>host id</th>\n",
       "      <th>host_identity_verified</th>\n",
       "      <th>host name</th>\n",
       "      <th>neighbourhood group</th>\n",
       "      <th>neighbourhood</th>\n",
       "      <th>lat</th>\n",
       "      <th>long</th>\n",
       "      <th>country</th>\n",
       "      <th>...</th>\n",
       "      <th>service fee</th>\n",
       "      <th>minimum nights</th>\n",
       "      <th>number of reviews</th>\n",
       "      <th>last review</th>\n",
       "      <th>reviews per month</th>\n",
       "      <th>review rate number</th>\n",
       "      <th>calculated host listings count</th>\n",
       "      <th>availability 365</th>\n",
       "      <th>house_rules</th>\n",
       "      <th>license</th>\n",
       "    </tr>\n",
       "  </thead>\n",
       "  <tbody>\n",
       "    <tr>\n",
       "      <th>0</th>\n",
       "      <td>1001254</td>\n",
       "      <td>Clean &amp; quiet apt home by the park</td>\n",
       "      <td>80014485718</td>\n",
       "      <td>unconfirmed</td>\n",
       "      <td>Madaline</td>\n",
       "      <td>Brooklyn</td>\n",
       "      <td>Kensington</td>\n",
       "      <td>40.64749</td>\n",
       "      <td>-73.97237</td>\n",
       "      <td>United States</td>\n",
       "      <td>...</td>\n",
       "      <td>$193</td>\n",
       "      <td>10.0</td>\n",
       "      <td>9.0</td>\n",
       "      <td>10/19/2021</td>\n",
       "      <td>0.21</td>\n",
       "      <td>4.0</td>\n",
       "      <td>6.0</td>\n",
       "      <td>286.0</td>\n",
       "      <td>Clean up and treat the home the way you'd like...</td>\n",
       "      <td>NaN</td>\n",
       "    </tr>\n",
       "    <tr>\n",
       "      <th>1</th>\n",
       "      <td>1002102</td>\n",
       "      <td>Skylit Midtown Castle</td>\n",
       "      <td>52335172823</td>\n",
       "      <td>verified</td>\n",
       "      <td>Jenna</td>\n",
       "      <td>Manhattan</td>\n",
       "      <td>Midtown</td>\n",
       "      <td>40.75362</td>\n",
       "      <td>-73.98377</td>\n",
       "      <td>United States</td>\n",
       "      <td>...</td>\n",
       "      <td>$28</td>\n",
       "      <td>30.0</td>\n",
       "      <td>45.0</td>\n",
       "      <td>5/21/2022</td>\n",
       "      <td>0.38</td>\n",
       "      <td>4.0</td>\n",
       "      <td>2.0</td>\n",
       "      <td>228.0</td>\n",
       "      <td>Pet friendly but please confirm with me if the...</td>\n",
       "      <td>NaN</td>\n",
       "    </tr>\n",
       "    <tr>\n",
       "      <th>2</th>\n",
       "      <td>1002403</td>\n",
       "      <td>THE VILLAGE OF HARLEM....NEW YORK !</td>\n",
       "      <td>78829239556</td>\n",
       "      <td>NaN</td>\n",
       "      <td>Elise</td>\n",
       "      <td>Manhattan</td>\n",
       "      <td>Harlem</td>\n",
       "      <td>40.80902</td>\n",
       "      <td>-73.94190</td>\n",
       "      <td>United States</td>\n",
       "      <td>...</td>\n",
       "      <td>$124</td>\n",
       "      <td>3.0</td>\n",
       "      <td>0.0</td>\n",
       "      <td>NaN</td>\n",
       "      <td>NaN</td>\n",
       "      <td>5.0</td>\n",
       "      <td>1.0</td>\n",
       "      <td>352.0</td>\n",
       "      <td>I encourage you to use my kitchen, cooking and...</td>\n",
       "      <td>NaN</td>\n",
       "    </tr>\n",
       "    <tr>\n",
       "      <th>4</th>\n",
       "      <td>1003689</td>\n",
       "      <td>Entire Apt: Spacious Studio/Loft by central park</td>\n",
       "      <td>92037596077</td>\n",
       "      <td>verified</td>\n",
       "      <td>Lyndon</td>\n",
       "      <td>Manhattan</td>\n",
       "      <td>East Harlem</td>\n",
       "      <td>40.79851</td>\n",
       "      <td>-73.94399</td>\n",
       "      <td>United States</td>\n",
       "      <td>...</td>\n",
       "      <td>$41</td>\n",
       "      <td>10.0</td>\n",
       "      <td>9.0</td>\n",
       "      <td>11/19/2018</td>\n",
       "      <td>0.10</td>\n",
       "      <td>3.0</td>\n",
       "      <td>1.0</td>\n",
       "      <td>289.0</td>\n",
       "      <td>Please no smoking in the house, porch or on th...</td>\n",
       "      <td>NaN</td>\n",
       "    </tr>\n",
       "    <tr>\n",
       "      <th>5</th>\n",
       "      <td>1004098</td>\n",
       "      <td>Large Cozy</td>\n",
       "      <td>45498551794</td>\n",
       "      <td>verified</td>\n",
       "      <td>Michelle</td>\n",
       "      <td>Manhattan</td>\n",
       "      <td>Murray Hill</td>\n",
       "      <td>40.74767</td>\n",
       "      <td>-73.97500</td>\n",
       "      <td>United States</td>\n",
       "      <td>...</td>\n",
       "      <td>$115</td>\n",
       "      <td>3.0</td>\n",
       "      <td>74.0</td>\n",
       "      <td>6/22/2019</td>\n",
       "      <td>0.59</td>\n",
       "      <td>3.0</td>\n",
       "      <td>1.0</td>\n",
       "      <td>374.0</td>\n",
       "      <td>No smoking, please, and no drugs.</td>\n",
       "      <td>NaN</td>\n",
       "    </tr>\n",
       "    <tr>\n",
       "      <th>...</th>\n",
       "      <td>...</td>\n",
       "      <td>...</td>\n",
       "      <td>...</td>\n",
       "      <td>...</td>\n",
       "      <td>...</td>\n",
       "      <td>...</td>\n",
       "      <td>...</td>\n",
       "      <td>...</td>\n",
       "      <td>...</td>\n",
       "      <td>...</td>\n",
       "      <td>...</td>\n",
       "      <td>...</td>\n",
       "      <td>...</td>\n",
       "      <td>...</td>\n",
       "      <td>...</td>\n",
       "      <td>...</td>\n",
       "      <td>...</td>\n",
       "      <td>...</td>\n",
       "      <td>...</td>\n",
       "      <td>...</td>\n",
       "      <td>...</td>\n",
       "    </tr>\n",
       "    <tr>\n",
       "      <th>36734</th>\n",
       "      <td>21289524</td>\n",
       "      <td>Quick walk to L Train, Free Cleaning &amp; WiFi!</td>\n",
       "      <td>83952723770</td>\n",
       "      <td>unconfirmed</td>\n",
       "      <td>Martin &amp; Steve</td>\n",
       "      <td>Brooklyn</td>\n",
       "      <td>Williamsburg</td>\n",
       "      <td>40.71260</td>\n",
       "      <td>-73.93982</td>\n",
       "      <td>United States</td>\n",
       "      <td>...</td>\n",
       "      <td>$34</td>\n",
       "      <td>30.0</td>\n",
       "      <td>1.0</td>\n",
       "      <td>6/9/2019</td>\n",
       "      <td>1.00</td>\n",
       "      <td>4.0</td>\n",
       "      <td>1.0</td>\n",
       "      <td>84.0</td>\n",
       "      <td>NaN</td>\n",
       "      <td>NaN</td>\n",
       "    </tr>\n",
       "    <tr>\n",
       "      <th>36735</th>\n",
       "      <td>21290077</td>\n",
       "      <td>Cozy room in Brooklyn.</td>\n",
       "      <td>44927915830</td>\n",
       "      <td>verified</td>\n",
       "      <td>Boris</td>\n",
       "      <td>Brooklyn</td>\n",
       "      <td>Bensonhurst</td>\n",
       "      <td>40.61023</td>\n",
       "      <td>-73.99627</td>\n",
       "      <td>United States</td>\n",
       "      <td>...</td>\n",
       "      <td>$92</td>\n",
       "      <td>1.0</td>\n",
       "      <td>0.0</td>\n",
       "      <td>NaN</td>\n",
       "      <td>NaN</td>\n",
       "      <td>5.0</td>\n",
       "      <td>1.0</td>\n",
       "      <td>0.0</td>\n",
       "      <td>NaN</td>\n",
       "      <td>NaN</td>\n",
       "    </tr>\n",
       "    <tr>\n",
       "      <th>36736</th>\n",
       "      <td>21290629</td>\n",
       "      <td>GORGEOUS APARTMENT, PERFECT HARLEM LOCATION!</td>\n",
       "      <td>75629331969</td>\n",
       "      <td>unconfirmed</td>\n",
       "      <td>Patrice</td>\n",
       "      <td>Manhattan</td>\n",
       "      <td>Harlem</td>\n",
       "      <td>40.80055</td>\n",
       "      <td>-73.95501</td>\n",
       "      <td>United States</td>\n",
       "      <td>...</td>\n",
       "      <td>$200</td>\n",
       "      <td>3.0</td>\n",
       "      <td>16.0</td>\n",
       "      <td>6/14/2019</td>\n",
       "      <td>2.22</td>\n",
       "      <td>5.0</td>\n",
       "      <td>1.0</td>\n",
       "      <td>50.0</td>\n",
       "      <td>NaN</td>\n",
       "      <td>NaN</td>\n",
       "    </tr>\n",
       "    <tr>\n",
       "      <th>36737</th>\n",
       "      <td>21291181</td>\n",
       "      <td>Room in a Lovely Apartment in Upper East Side</td>\n",
       "      <td>52222576074</td>\n",
       "      <td>unconfirmed</td>\n",
       "      <td>Amanda &amp; Rafael</td>\n",
       "      <td>Manhattan</td>\n",
       "      <td>Upper East Side</td>\n",
       "      <td>40.76869</td>\n",
       "      <td>-73.95007</td>\n",
       "      <td>United States</td>\n",
       "      <td>...</td>\n",
       "      <td>$233</td>\n",
       "      <td>2.0</td>\n",
       "      <td>8.0</td>\n",
       "      <td>2/10/2019</td>\n",
       "      <td>0.92</td>\n",
       "      <td>3.0</td>\n",
       "      <td>1.0</td>\n",
       "      <td>0.0</td>\n",
       "      <td>NaN</td>\n",
       "      <td>NaN</td>\n",
       "    </tr>\n",
       "    <tr>\n",
       "      <th>36738</th>\n",
       "      <td>21291733</td>\n",
       "      <td>Spacious apartment in front of Prospect Park</td>\n",
       "      <td>12167676268</td>\n",
       "      <td>verified</td>\n",
       "      <td>Slava</td>\n",
       "      <td>Brooklyn</td>\n",
       "      <td>Crown Heights</td>\n",
       "      <td>40.66392</td>\n",
       "      <td>-73.95994</td>\n",
       "      <td>United States</td>\n",
       "      <td>...</td>\n",
       "      <td>NaN</td>\n",
       "      <td>NaN</td>\n",
       "      <td>NaN</td>\n",
       "      <td>NaN</td>\n",
       "      <td>NaN</td>\n",
       "      <td>NaN</td>\n",
       "      <td>NaN</td>\n",
       "      <td>NaN</td>\n",
       "      <td>NaN</td>\n",
       "      <td>NaN</td>\n",
       "    </tr>\n",
       "  </tbody>\n",
       "</table>\n",
       "<p>36613 rows × 26 columns</p>\n",
       "</div>"
      ],
      "text/plain": [
       "             id                                              NAME  \\\n",
       "0       1001254                Clean & quiet apt home by the park   \n",
       "1       1002102                             Skylit Midtown Castle   \n",
       "2       1002403               THE VILLAGE OF HARLEM....NEW YORK !   \n",
       "4       1003689  Entire Apt: Spacious Studio/Loft by central park   \n",
       "5       1004098                                       Large Cozy    \n",
       "...         ...                                               ...   \n",
       "36734  21289524      Quick walk to L Train, Free Cleaning & WiFi!   \n",
       "36735  21290077                           Cozy room in Brooklyn.    \n",
       "36736  21290629      GORGEOUS APARTMENT, PERFECT HARLEM LOCATION!   \n",
       "36737  21291181     Room in a Lovely Apartment in Upper East Side   \n",
       "36738  21291733      Spacious apartment in front of Prospect Park   \n",
       "\n",
       "           host id host_identity_verified        host name  \\\n",
       "0      80014485718            unconfirmed         Madaline   \n",
       "1      52335172823               verified            Jenna   \n",
       "2      78829239556                    NaN            Elise   \n",
       "4      92037596077               verified           Lyndon   \n",
       "5      45498551794               verified         Michelle   \n",
       "...            ...                    ...              ...   \n",
       "36734  83952723770            unconfirmed   Martin & Steve   \n",
       "36735  44927915830               verified            Boris   \n",
       "36736  75629331969            unconfirmed          Patrice   \n",
       "36737  52222576074            unconfirmed  Amanda & Rafael   \n",
       "36738  12167676268               verified            Slava   \n",
       "\n",
       "      neighbourhood group    neighbourhood       lat      long        country  \\\n",
       "0                Brooklyn       Kensington  40.64749 -73.97237  United States   \n",
       "1               Manhattan          Midtown  40.75362 -73.98377  United States   \n",
       "2               Manhattan           Harlem  40.80902 -73.94190  United States   \n",
       "4               Manhattan      East Harlem  40.79851 -73.94399  United States   \n",
       "5               Manhattan      Murray Hill  40.74767 -73.97500  United States   \n",
       "...                   ...              ...       ...       ...            ...   \n",
       "36734            Brooklyn     Williamsburg  40.71260 -73.93982  United States   \n",
       "36735            Brooklyn      Bensonhurst  40.61023 -73.99627  United States   \n",
       "36736           Manhattan           Harlem  40.80055 -73.95501  United States   \n",
       "36737           Manhattan  Upper East Side  40.76869 -73.95007  United States   \n",
       "36738            Brooklyn    Crown Heights  40.66392 -73.95994  United States   \n",
       "\n",
       "       ... service fee minimum nights number of reviews last review  \\\n",
       "0      ...       $193            10.0               9.0  10/19/2021   \n",
       "1      ...        $28            30.0              45.0   5/21/2022   \n",
       "2      ...       $124             3.0               0.0         NaN   \n",
       "4      ...        $41            10.0               9.0  11/19/2018   \n",
       "5      ...       $115             3.0              74.0   6/22/2019   \n",
       "...    ...         ...            ...               ...         ...   \n",
       "36734  ...        $34            30.0               1.0    6/9/2019   \n",
       "36735  ...        $92             1.0               0.0         NaN   \n",
       "36736  ...       $200             3.0              16.0   6/14/2019   \n",
       "36737  ...       $233             2.0               8.0   2/10/2019   \n",
       "36738  ...         NaN            NaN               NaN         NaN   \n",
       "\n",
       "       reviews per month review rate number calculated host listings count  \\\n",
       "0                   0.21                4.0                            6.0   \n",
       "1                   0.38                4.0                            2.0   \n",
       "2                    NaN                5.0                            1.0   \n",
       "4                   0.10                3.0                            1.0   \n",
       "5                   0.59                3.0                            1.0   \n",
       "...                  ...                ...                            ...   \n",
       "36734               1.00                4.0                            1.0   \n",
       "36735                NaN                5.0                            1.0   \n",
       "36736               2.22                5.0                            1.0   \n",
       "36737               0.92                3.0                            1.0   \n",
       "36738                NaN                NaN                            NaN   \n",
       "\n",
       "       availability 365                                        house_rules  \\\n",
       "0                 286.0  Clean up and treat the home the way you'd like...   \n",
       "1                 228.0  Pet friendly but please confirm with me if the...   \n",
       "2                 352.0  I encourage you to use my kitchen, cooking and...   \n",
       "4                 289.0  Please no smoking in the house, porch or on th...   \n",
       "5                 374.0                  No smoking, please, and no drugs.   \n",
       "...                 ...                                                ...   \n",
       "36734              84.0                                                NaN   \n",
       "36735               0.0                                                NaN   \n",
       "36736              50.0                                                NaN   \n",
       "36737               0.0                                                NaN   \n",
       "36738               NaN                                                NaN   \n",
       "\n",
       "      license  \n",
       "0         NaN  \n",
       "1         NaN  \n",
       "2         NaN  \n",
       "4         NaN  \n",
       "5         NaN  \n",
       "...       ...  \n",
       "36734     NaN  \n",
       "36735     NaN  \n",
       "36736     NaN  \n",
       "36737     NaN  \n",
       "36738     NaN  \n",
       "\n",
       "[36613 rows x 26 columns]"
      ]
     },
     "execution_count": 261,
     "metadata": {},
     "output_type": "execute_result"
    }
   ],
   "source": [
    "d"
   ]
  },
  {
   "cell_type": "code",
   "execution_count": 346,
   "id": "5945f32d-b918-4181-b0cb-9c25cd87f0fc",
   "metadata": {},
   "outputs": [
    {
     "data": {
      "text/plain": [
       "0"
      ]
     },
     "execution_count": 346,
     "metadata": {},
     "output_type": "execute_result"
    }
   ],
   "source": [
    "d[\"host id\"].isnull().sum()"
   ]
  },
  {
   "cell_type": "code",
   "execution_count": 118,
   "id": "9f6b0fd0-fde6-4092-a075-54819fb65bcb",
   "metadata": {},
   "outputs": [
    {
     "data": {
      "text/plain": [
       "0"
      ]
     },
     "execution_count": 118,
     "metadata": {},
     "output_type": "execute_result"
    }
   ],
   "source": [
    "d[\"host id\"].isnull().sum()"
   ]
  },
  {
   "cell_type": "code",
   "execution_count": 402,
   "id": "cc0ba269-688e-47e1-a73b-8b2e5e7bf37f",
   "metadata": {},
   "outputs": [
    {
     "name": "stdout",
     "output_type": "stream",
     "text": [
      "<class 'pandas.core.frame.DataFrame'>\n",
      "Index: 36613 entries, 0 to 36738\n",
      "Data columns (total 26 columns):\n",
      " #   Column                          Non-Null Count  Dtype  \n",
      "---  ------                          --------------  -----  \n",
      " 0   id                              36613 non-null  int64  \n",
      " 1   NAME                            36613 non-null  object \n",
      " 2   host id                         36613 non-null  int64  \n",
      " 3   host_identity_verified          36467 non-null  object \n",
      " 4   host name                       36387 non-null  object \n",
      " 5   neighbourhood group             36588 non-null  object \n",
      " 6   neighbourhood                   36597 non-null  object \n",
      " 7   lat                             36605 non-null  float64\n",
      " 8   long                            36605 non-null  float64\n",
      " 9   country                         36531 non-null  object \n",
      " 10  country code                    36542 non-null  object \n",
      " 11  instant_bookable                36542 non-null  object \n",
      " 12  cancellation_policy             36568 non-null  object \n",
      " 13  room type                       36613 non-null  object \n",
      " 14  Construction year               36475 non-null  float64\n",
      " 15  price                           36518 non-null  object \n",
      " 16  service fee                     36526 non-null  object \n",
      " 17  minimum nights                  36421 non-null  float64\n",
      " 18  number of reviews               36579 non-null  float64\n",
      " 19  last review                     30764 non-null  object \n",
      " 20  reviews per month               30778 non-null  float64\n",
      " 21  review rate number              36497 non-null  float64\n",
      " 22  calculated host listings count  36530 non-null  float64\n",
      " 23  availability 365                36452 non-null  float64\n",
      " 24  house_rules                     24456 non-null  object \n",
      " 25  license                         1 non-null      object \n",
      "dtypes: float64(9), int64(2), object(15)\n",
      "memory usage: 7.5+ MB\n"
     ]
    }
   ],
   "source": [
    "d.info()"
   ]
  },
  {
   "cell_type": "code",
   "execution_count": 403,
   "id": "8d80d0ea-69e2-4c67-a5a0-4577c1ea9047",
   "metadata": {},
   "outputs": [
    {
     "data": {
      "text/plain": [
       "0        True\n",
       "1        True\n",
       "2        True\n",
       "4        True\n",
       "5        True\n",
       "         ... \n",
       "36734    True\n",
       "36735    True\n",
       "36736    True\n",
       "36737    True\n",
       "36738    True\n",
       "Name: host id, Length: 36613, dtype: bool"
      ]
     },
     "execution_count": 403,
     "metadata": {},
     "output_type": "execute_result"
    }
   ],
   "source": [
    "d[\"host id\"].astype(str).str.isnumeric()"
   ]
  },
  {
   "cell_type": "code",
   "execution_count": 404,
   "id": "9867a473-d383-48be-a7b7-10a4db23e3e5",
   "metadata": {},
   "outputs": [],
   "source": [
    "d[\"host id\"]=pd.to_numeric(d[\"host id\"],errors=\"coerce\")"
   ]
  },
  {
   "cell_type": "code",
   "execution_count": 354,
   "id": "f20eda6f-6413-4abf-bf7f-d62b6a466efd",
   "metadata": {},
   "outputs": [
    {
     "data": {
      "text/plain": [
       "0"
      ]
     },
     "execution_count": 354,
     "metadata": {},
     "output_type": "execute_result"
    }
   ],
   "source": [
    "d[\"host id\"].isnull().sum()"
   ]
  },
  {
   "cell_type": "code",
   "execution_count": 405,
   "id": "97583b02-5898-4f83-b387-e1227f8f6c85",
   "metadata": {},
   "outputs": [
    {
     "data": {
      "text/plain": [
       "[]"
      ]
     },
     "execution_count": 405,
     "metadata": {},
     "output_type": "execute_result"
    }
   ],
   "source": [
    "def nonnum(hos):\n",
    "    return re.findall('\\D+',str(hos))\n",
    "d['host id'].apply(nonnum).sum()"
   ]
  },
  {
   "cell_type": "code",
   "execution_count": 356,
   "id": "06bafa3a-cf06-4390-8f9b-484a3181228d",
   "metadata": {},
   "outputs": [
    {
     "data": {
      "text/plain": [
       "226"
      ]
     },
     "execution_count": 356,
     "metadata": {},
     "output_type": "execute_result"
    }
   ],
   "source": [
    "d[\"host name\"].isnull().sum()"
   ]
  },
  {
   "cell_type": "code",
   "execution_count": 406,
   "id": "2e7b2476-c61c-415e-b504-e32d80db18a8",
   "metadata": {},
   "outputs": [],
   "source": [
    "d.dropna(subset=[\"host name\"],inplace=True)"
   ]
  },
  {
   "cell_type": "code",
   "execution_count": 267,
   "id": "25db7c3e-17bf-47db-8ef2-f91d27114856",
   "metadata": {},
   "outputs": [
    {
     "data": {
      "text/plain": [
       "0"
      ]
     },
     "execution_count": 267,
     "metadata": {},
     "output_type": "execute_result"
    }
   ],
   "source": [
    "d[\"host name\"].isnull().sum()"
   ]
  },
  {
   "cell_type": "code",
   "execution_count": 126,
   "id": "77449a95-81a9-4d26-85cd-553e2ebe7db2",
   "metadata": {},
   "outputs": [
    {
     "data": {
      "text/plain": [
       "array(['Madaline', 'Jenna', 'Elise', ..., 'Mella & Justin',\n",
       "       'Martin & Steve', 'Amanda & Rafael'], dtype=object)"
      ]
     },
     "execution_count": 126,
     "metadata": {},
     "output_type": "execute_result"
    }
   ],
   "source": [
    "d[\"host name\"].unique()"
   ]
  },
  {
   "cell_type": "code",
   "execution_count": 407,
   "id": "e26eeacd-ee96-4dbe-9546-f87f5de0b9a5",
   "metadata": {},
   "outputs": [],
   "source": [
    "def inconsistent(n):\n",
    "    f=re.findall(r\"\\W+\",str(n))\n",
    "    if len(f)==0:\n",
    "        return True\n",
    "    else:\n",
    "        return False"
   ]
  },
  {
   "cell_type": "code",
   "execution_count": 408,
   "id": "5d3b2a9c-2b3d-4db5-9c64-421953dcb881",
   "metadata": {},
   "outputs": [],
   "source": [
    "d[\"host name\"]=d[d[\"host name\"].apply(inconsistent)]['host name']"
   ]
  },
  {
   "cell_type": "code",
   "execution_count": 360,
   "id": "52a3c636-d4f0-4884-9f70-99a36c51c9a9",
   "metadata": {},
   "outputs": [
    {
     "data": {
      "text/html": [
       "<div>\n",
       "<style scoped>\n",
       "    .dataframe tbody tr th:only-of-type {\n",
       "        vertical-align: middle;\n",
       "    }\n",
       "\n",
       "    .dataframe tbody tr th {\n",
       "        vertical-align: top;\n",
       "    }\n",
       "\n",
       "    .dataframe thead th {\n",
       "        text-align: right;\n",
       "    }\n",
       "</style>\n",
       "<table border=\"1\" class=\"dataframe\">\n",
       "  <thead>\n",
       "    <tr style=\"text-align: right;\">\n",
       "      <th></th>\n",
       "      <th>id</th>\n",
       "      <th>NAME</th>\n",
       "      <th>host id</th>\n",
       "      <th>host_identity_verified</th>\n",
       "      <th>host name</th>\n",
       "      <th>neighbourhood group</th>\n",
       "      <th>neighbourhood</th>\n",
       "      <th>lat</th>\n",
       "      <th>long</th>\n",
       "      <th>country</th>\n",
       "      <th>...</th>\n",
       "      <th>service fee</th>\n",
       "      <th>minimum nights</th>\n",
       "      <th>number of reviews</th>\n",
       "      <th>last review</th>\n",
       "      <th>reviews per month</th>\n",
       "      <th>review rate number</th>\n",
       "      <th>calculated host listings count</th>\n",
       "      <th>availability 365</th>\n",
       "      <th>house_rules</th>\n",
       "      <th>license</th>\n",
       "    </tr>\n",
       "  </thead>\n",
       "  <tbody>\n",
       "    <tr>\n",
       "      <th>0</th>\n",
       "      <td>1001254</td>\n",
       "      <td>Clean &amp; quiet apt home by the park</td>\n",
       "      <td>80014485718</td>\n",
       "      <td>unconfirmed</td>\n",
       "      <td>Madaline</td>\n",
       "      <td>Brooklyn</td>\n",
       "      <td>Kensington</td>\n",
       "      <td>40.64749</td>\n",
       "      <td>-73.97237</td>\n",
       "      <td>United States</td>\n",
       "      <td>...</td>\n",
       "      <td>$193</td>\n",
       "      <td>10.0</td>\n",
       "      <td>9.0</td>\n",
       "      <td>10/19/2021</td>\n",
       "      <td>0.21</td>\n",
       "      <td>4.0</td>\n",
       "      <td>6.0</td>\n",
       "      <td>286.0</td>\n",
       "      <td>Clean up and treat the home the way you'd like...</td>\n",
       "      <td>NaN</td>\n",
       "    </tr>\n",
       "    <tr>\n",
       "      <th>1</th>\n",
       "      <td>1002102</td>\n",
       "      <td>Skylit Midtown Castle</td>\n",
       "      <td>52335172823</td>\n",
       "      <td>verified</td>\n",
       "      <td>Jenna</td>\n",
       "      <td>Manhattan</td>\n",
       "      <td>Midtown</td>\n",
       "      <td>40.75362</td>\n",
       "      <td>-73.98377</td>\n",
       "      <td>United States</td>\n",
       "      <td>...</td>\n",
       "      <td>$28</td>\n",
       "      <td>30.0</td>\n",
       "      <td>45.0</td>\n",
       "      <td>5/21/2022</td>\n",
       "      <td>0.38</td>\n",
       "      <td>4.0</td>\n",
       "      <td>2.0</td>\n",
       "      <td>228.0</td>\n",
       "      <td>Pet friendly but please confirm with me if the...</td>\n",
       "      <td>NaN</td>\n",
       "    </tr>\n",
       "    <tr>\n",
       "      <th>2</th>\n",
       "      <td>1002403</td>\n",
       "      <td>THE VILLAGE OF HARLEM....NEW YORK !</td>\n",
       "      <td>78829239556</td>\n",
       "      <td>NaN</td>\n",
       "      <td>Elise</td>\n",
       "      <td>Manhattan</td>\n",
       "      <td>Harlem</td>\n",
       "      <td>40.80902</td>\n",
       "      <td>-73.94190</td>\n",
       "      <td>United States</td>\n",
       "      <td>...</td>\n",
       "      <td>$124</td>\n",
       "      <td>3.0</td>\n",
       "      <td>0.0</td>\n",
       "      <td>NaN</td>\n",
       "      <td>NaN</td>\n",
       "      <td>5.0</td>\n",
       "      <td>1.0</td>\n",
       "      <td>352.0</td>\n",
       "      <td>I encourage you to use my kitchen, cooking and...</td>\n",
       "      <td>NaN</td>\n",
       "    </tr>\n",
       "    <tr>\n",
       "      <th>4</th>\n",
       "      <td>1003689</td>\n",
       "      <td>Entire Apt: Spacious Studio/Loft by central park</td>\n",
       "      <td>92037596077</td>\n",
       "      <td>verified</td>\n",
       "      <td>Lyndon</td>\n",
       "      <td>Manhattan</td>\n",
       "      <td>East Harlem</td>\n",
       "      <td>40.79851</td>\n",
       "      <td>-73.94399</td>\n",
       "      <td>United States</td>\n",
       "      <td>...</td>\n",
       "      <td>$41</td>\n",
       "      <td>10.0</td>\n",
       "      <td>9.0</td>\n",
       "      <td>11/19/2018</td>\n",
       "      <td>0.10</td>\n",
       "      <td>3.0</td>\n",
       "      <td>1.0</td>\n",
       "      <td>289.0</td>\n",
       "      <td>Please no smoking in the house, porch or on th...</td>\n",
       "      <td>NaN</td>\n",
       "    </tr>\n",
       "    <tr>\n",
       "      <th>5</th>\n",
       "      <td>1004098</td>\n",
       "      <td>Large Cozy</td>\n",
       "      <td>45498551794</td>\n",
       "      <td>verified</td>\n",
       "      <td>Michelle</td>\n",
       "      <td>Manhattan</td>\n",
       "      <td>Murray Hill</td>\n",
       "      <td>40.74767</td>\n",
       "      <td>-73.97500</td>\n",
       "      <td>United States</td>\n",
       "      <td>...</td>\n",
       "      <td>$115</td>\n",
       "      <td>3.0</td>\n",
       "      <td>74.0</td>\n",
       "      <td>6/22/2019</td>\n",
       "      <td>0.59</td>\n",
       "      <td>3.0</td>\n",
       "      <td>1.0</td>\n",
       "      <td>374.0</td>\n",
       "      <td>No smoking, please, and no drugs.</td>\n",
       "      <td>NaN</td>\n",
       "    </tr>\n",
       "    <tr>\n",
       "      <th>...</th>\n",
       "      <td>...</td>\n",
       "      <td>...</td>\n",
       "      <td>...</td>\n",
       "      <td>...</td>\n",
       "      <td>...</td>\n",
       "      <td>...</td>\n",
       "      <td>...</td>\n",
       "      <td>...</td>\n",
       "      <td>...</td>\n",
       "      <td>...</td>\n",
       "      <td>...</td>\n",
       "      <td>...</td>\n",
       "      <td>...</td>\n",
       "      <td>...</td>\n",
       "      <td>...</td>\n",
       "      <td>...</td>\n",
       "      <td>...</td>\n",
       "      <td>...</td>\n",
       "      <td>...</td>\n",
       "      <td>...</td>\n",
       "      <td>...</td>\n",
       "    </tr>\n",
       "    <tr>\n",
       "      <th>36734</th>\n",
       "      <td>21289524</td>\n",
       "      <td>Quick walk to L Train, Free Cleaning &amp; WiFi!</td>\n",
       "      <td>83952723770</td>\n",
       "      <td>unconfirmed</td>\n",
       "      <td>NaN</td>\n",
       "      <td>Brooklyn</td>\n",
       "      <td>Williamsburg</td>\n",
       "      <td>40.71260</td>\n",
       "      <td>-73.93982</td>\n",
       "      <td>United States</td>\n",
       "      <td>...</td>\n",
       "      <td>$34</td>\n",
       "      <td>30.0</td>\n",
       "      <td>1.0</td>\n",
       "      <td>6/9/2019</td>\n",
       "      <td>1.00</td>\n",
       "      <td>4.0</td>\n",
       "      <td>1.0</td>\n",
       "      <td>84.0</td>\n",
       "      <td>NaN</td>\n",
       "      <td>NaN</td>\n",
       "    </tr>\n",
       "    <tr>\n",
       "      <th>36735</th>\n",
       "      <td>21290077</td>\n",
       "      <td>Cozy room in Brooklyn.</td>\n",
       "      <td>44927915830</td>\n",
       "      <td>verified</td>\n",
       "      <td>Boris</td>\n",
       "      <td>Brooklyn</td>\n",
       "      <td>Bensonhurst</td>\n",
       "      <td>40.61023</td>\n",
       "      <td>-73.99627</td>\n",
       "      <td>United States</td>\n",
       "      <td>...</td>\n",
       "      <td>$92</td>\n",
       "      <td>1.0</td>\n",
       "      <td>0.0</td>\n",
       "      <td>NaN</td>\n",
       "      <td>NaN</td>\n",
       "      <td>5.0</td>\n",
       "      <td>1.0</td>\n",
       "      <td>0.0</td>\n",
       "      <td>NaN</td>\n",
       "      <td>NaN</td>\n",
       "    </tr>\n",
       "    <tr>\n",
       "      <th>36736</th>\n",
       "      <td>21290629</td>\n",
       "      <td>GORGEOUS APARTMENT, PERFECT HARLEM LOCATION!</td>\n",
       "      <td>75629331969</td>\n",
       "      <td>unconfirmed</td>\n",
       "      <td>Patrice</td>\n",
       "      <td>Manhattan</td>\n",
       "      <td>Harlem</td>\n",
       "      <td>40.80055</td>\n",
       "      <td>-73.95501</td>\n",
       "      <td>United States</td>\n",
       "      <td>...</td>\n",
       "      <td>$200</td>\n",
       "      <td>3.0</td>\n",
       "      <td>16.0</td>\n",
       "      <td>6/14/2019</td>\n",
       "      <td>2.22</td>\n",
       "      <td>5.0</td>\n",
       "      <td>1.0</td>\n",
       "      <td>50.0</td>\n",
       "      <td>NaN</td>\n",
       "      <td>NaN</td>\n",
       "    </tr>\n",
       "    <tr>\n",
       "      <th>36737</th>\n",
       "      <td>21291181</td>\n",
       "      <td>Room in a Lovely Apartment in Upper East Side</td>\n",
       "      <td>52222576074</td>\n",
       "      <td>unconfirmed</td>\n",
       "      <td>NaN</td>\n",
       "      <td>Manhattan</td>\n",
       "      <td>Upper East Side</td>\n",
       "      <td>40.76869</td>\n",
       "      <td>-73.95007</td>\n",
       "      <td>United States</td>\n",
       "      <td>...</td>\n",
       "      <td>$233</td>\n",
       "      <td>2.0</td>\n",
       "      <td>8.0</td>\n",
       "      <td>2/10/2019</td>\n",
       "      <td>0.92</td>\n",
       "      <td>3.0</td>\n",
       "      <td>1.0</td>\n",
       "      <td>0.0</td>\n",
       "      <td>NaN</td>\n",
       "      <td>NaN</td>\n",
       "    </tr>\n",
       "    <tr>\n",
       "      <th>36738</th>\n",
       "      <td>21291733</td>\n",
       "      <td>Spacious apartment in front of Prospect Park</td>\n",
       "      <td>12167676268</td>\n",
       "      <td>verified</td>\n",
       "      <td>Slava</td>\n",
       "      <td>Brooklyn</td>\n",
       "      <td>Crown Heights</td>\n",
       "      <td>40.66392</td>\n",
       "      <td>-73.95994</td>\n",
       "      <td>United States</td>\n",
       "      <td>...</td>\n",
       "      <td>NaN</td>\n",
       "      <td>NaN</td>\n",
       "      <td>NaN</td>\n",
       "      <td>NaN</td>\n",
       "      <td>NaN</td>\n",
       "      <td>NaN</td>\n",
       "      <td>NaN</td>\n",
       "      <td>NaN</td>\n",
       "      <td>NaN</td>\n",
       "      <td>NaN</td>\n",
       "    </tr>\n",
       "  </tbody>\n",
       "</table>\n",
       "<p>36387 rows × 26 columns</p>\n",
       "</div>"
      ],
      "text/plain": [
       "             id                                              NAME  \\\n",
       "0       1001254                Clean & quiet apt home by the park   \n",
       "1       1002102                             Skylit Midtown Castle   \n",
       "2       1002403               THE VILLAGE OF HARLEM....NEW YORK !   \n",
       "4       1003689  Entire Apt: Spacious Studio/Loft by central park   \n",
       "5       1004098                                       Large Cozy    \n",
       "...         ...                                               ...   \n",
       "36734  21289524      Quick walk to L Train, Free Cleaning & WiFi!   \n",
       "36735  21290077                           Cozy room in Brooklyn.    \n",
       "36736  21290629      GORGEOUS APARTMENT, PERFECT HARLEM LOCATION!   \n",
       "36737  21291181     Room in a Lovely Apartment in Upper East Side   \n",
       "36738  21291733      Spacious apartment in front of Prospect Park   \n",
       "\n",
       "           host id host_identity_verified host name neighbourhood group  \\\n",
       "0      80014485718            unconfirmed  Madaline            Brooklyn   \n",
       "1      52335172823               verified     Jenna           Manhattan   \n",
       "2      78829239556                    NaN     Elise           Manhattan   \n",
       "4      92037596077               verified    Lyndon           Manhattan   \n",
       "5      45498551794               verified  Michelle           Manhattan   \n",
       "...            ...                    ...       ...                 ...   \n",
       "36734  83952723770            unconfirmed       NaN            Brooklyn   \n",
       "36735  44927915830               verified     Boris            Brooklyn   \n",
       "36736  75629331969            unconfirmed   Patrice           Manhattan   \n",
       "36737  52222576074            unconfirmed       NaN           Manhattan   \n",
       "36738  12167676268               verified     Slava            Brooklyn   \n",
       "\n",
       "         neighbourhood       lat      long        country  ... service fee  \\\n",
       "0           Kensington  40.64749 -73.97237  United States  ...       $193    \n",
       "1              Midtown  40.75362 -73.98377  United States  ...        $28    \n",
       "2               Harlem  40.80902 -73.94190  United States  ...       $124    \n",
       "4          East Harlem  40.79851 -73.94399  United States  ...        $41    \n",
       "5          Murray Hill  40.74767 -73.97500  United States  ...       $115    \n",
       "...                ...       ...       ...            ...  ...         ...   \n",
       "36734     Williamsburg  40.71260 -73.93982  United States  ...        $34    \n",
       "36735      Bensonhurst  40.61023 -73.99627  United States  ...        $92    \n",
       "36736           Harlem  40.80055 -73.95501  United States  ...       $200    \n",
       "36737  Upper East Side  40.76869 -73.95007  United States  ...       $233    \n",
       "36738    Crown Heights  40.66392 -73.95994  United States  ...         NaN   \n",
       "\n",
       "      minimum nights number of reviews last review  reviews per month  \\\n",
       "0               10.0               9.0  10/19/2021               0.21   \n",
       "1               30.0              45.0   5/21/2022               0.38   \n",
       "2                3.0               0.0         NaN                NaN   \n",
       "4               10.0               9.0  11/19/2018               0.10   \n",
       "5                3.0              74.0   6/22/2019               0.59   \n",
       "...              ...               ...         ...                ...   \n",
       "36734           30.0               1.0    6/9/2019               1.00   \n",
       "36735            1.0               0.0         NaN                NaN   \n",
       "36736            3.0              16.0   6/14/2019               2.22   \n",
       "36737            2.0               8.0   2/10/2019               0.92   \n",
       "36738            NaN               NaN         NaN                NaN   \n",
       "\n",
       "      review rate number calculated host listings count  availability 365  \\\n",
       "0                    4.0                            6.0             286.0   \n",
       "1                    4.0                            2.0             228.0   \n",
       "2                    5.0                            1.0             352.0   \n",
       "4                    3.0                            1.0             289.0   \n",
       "5                    3.0                            1.0             374.0   \n",
       "...                  ...                            ...               ...   \n",
       "36734                4.0                            1.0              84.0   \n",
       "36735                5.0                            1.0               0.0   \n",
       "36736                5.0                            1.0              50.0   \n",
       "36737                3.0                            1.0               0.0   \n",
       "36738                NaN                            NaN               NaN   \n",
       "\n",
       "                                             house_rules license  \n",
       "0      Clean up and treat the home the way you'd like...     NaN  \n",
       "1      Pet friendly but please confirm with me if the...     NaN  \n",
       "2      I encourage you to use my kitchen, cooking and...     NaN  \n",
       "4      Please no smoking in the house, porch or on th...     NaN  \n",
       "5                      No smoking, please, and no drugs.     NaN  \n",
       "...                                                  ...     ...  \n",
       "36734                                                NaN     NaN  \n",
       "36735                                                NaN     NaN  \n",
       "36736                                                NaN     NaN  \n",
       "36737                                                NaN     NaN  \n",
       "36738                                                NaN     NaN  \n",
       "\n",
       "[36387 rows x 26 columns]"
      ]
     },
     "execution_count": 360,
     "metadata": {},
     "output_type": "execute_result"
    }
   ],
   "source": [
    "d"
   ]
  },
  {
   "cell_type": "code",
   "execution_count": 130,
   "id": "45775da7-b890-4532-b229-f9650d50637c",
   "metadata": {},
   "outputs": [
    {
     "data": {
      "text/plain": [
       "array(['Madaline', 'Jenna', 'Elise', ..., 'Judyann', 'Clarke', 'Shabnam'],\n",
       "      dtype=object)"
      ]
     },
     "execution_count": 130,
     "metadata": {},
     "output_type": "execute_result"
    }
   ],
   "source": [
    "d[\"host name\"].unique()"
   ]
  },
  {
   "cell_type": "code",
   "execution_count": 409,
   "id": "863c423e-d409-4cd4-a24e-146620e9dc6a",
   "metadata": {},
   "outputs": [],
   "source": [
    "d[\"host name\"]=d[\"host name\"].astype(\"string\")"
   ]
  },
  {
   "cell_type": "code",
   "execution_count": 410,
   "id": "a86d4fa4-496b-4d85-985d-fe8a8ab0e6d2",
   "metadata": {},
   "outputs": [
    {
     "name": "stdout",
     "output_type": "stream",
     "text": [
      "<class 'pandas.core.frame.DataFrame'>\n",
      "Index: 36387 entries, 0 to 36738\n",
      "Data columns (total 26 columns):\n",
      " #   Column                          Non-Null Count  Dtype  \n",
      "---  ------                          --------------  -----  \n",
      " 0   id                              36387 non-null  int64  \n",
      " 1   NAME                            36387 non-null  object \n",
      " 2   host id                         36387 non-null  int64  \n",
      " 3   host_identity_verified          36241 non-null  object \n",
      " 4   host name                       33935 non-null  string \n",
      " 5   neighbourhood group             36363 non-null  object \n",
      " 6   neighbourhood                   36371 non-null  object \n",
      " 7   lat                             36379 non-null  float64\n",
      " 8   long                            36379 non-null  float64\n",
      " 9   country                         36306 non-null  object \n",
      " 10  country code                    36317 non-null  object \n",
      " 11  instant_bookable                36317 non-null  object \n",
      " 12  cancellation_policy             36343 non-null  object \n",
      " 13  room type                       36387 non-null  object \n",
      " 14  Construction year               36254 non-null  float64\n",
      " 15  price                           36292 non-null  object \n",
      " 16  service fee                     36300 non-null  object \n",
      " 17  minimum nights                  36195 non-null  float64\n",
      " 18  number of reviews               36353 non-null  float64\n",
      " 19  last review                     30586 non-null  object \n",
      " 20  reviews per month               30600 non-null  float64\n",
      " 21  review rate number              36275 non-null  float64\n",
      " 22  calculated host listings count  36304 non-null  float64\n",
      " 23  availability 365                36236 non-null  float64\n",
      " 24  house_rules                     24299 non-null  object \n",
      " 25  license                         1 non-null      object \n",
      "dtypes: float64(9), int64(2), object(14), string(1)\n",
      "memory usage: 7.5+ MB\n"
     ]
    }
   ],
   "source": [
    "d.info()"
   ]
  },
  {
   "cell_type": "code",
   "execution_count": 411,
   "id": "6f38479b-b47c-4ffc-8878-77cfe90ff046",
   "metadata": {},
   "outputs": [],
   "source": [
    "d[\"host name\"]=d[\"host name\"].str.strip()"
   ]
  },
  {
   "cell_type": "code",
   "execution_count": 134,
   "id": "fe318063-42b9-49d0-bc13-a9c4b82f606e",
   "metadata": {},
   "outputs": [
    {
     "data": {
      "text/plain": [
       "16"
      ]
     },
     "execution_count": 134,
     "metadata": {},
     "output_type": "execute_result"
    }
   ],
   "source": [
    "d[\"neighbourhood\"].isnull().sum()"
   ]
  },
  {
   "cell_type": "code",
   "execution_count": 412,
   "id": "b12b504b-2a85-4b6a-9d68-1d5130139c6c",
   "metadata": {},
   "outputs": [],
   "source": [
    "d.dropna(subset=\"neighbourhood\",inplace=True)"
   ]
  },
  {
   "cell_type": "code",
   "execution_count": 364,
   "id": "518e2354-dd61-4d80-bb77-32b637b06552",
   "metadata": {},
   "outputs": [
    {
     "data": {
      "text/plain": [
       "0"
      ]
     },
     "execution_count": 364,
     "metadata": {},
     "output_type": "execute_result"
    }
   ],
   "source": [
    "d[\"neighbourhood\"].isnull().sum()"
   ]
  },
  {
   "cell_type": "code",
   "execution_count": 137,
   "id": "71b9b893-2653-4f39-a85f-c0c5b661d238",
   "metadata": {},
   "outputs": [
    {
     "data": {
      "text/plain": [
       "array(['Kensington', 'Midtown', 'Harlem', 'East Harlem', 'Murray Hill',\n",
       "       'Bedford-Stuyvesant', \"Hell's Kitchen\", 'Upper West Side',\n",
       "       'Chinatown', 'South Slope', 'West Village', 'Williamsburg',\n",
       "       'Fort Greene', 'Chelsea', 'Crown Heights', 'Park Slope',\n",
       "       'Windsor Terrace', 'Inwood', 'East Village', 'Greenpoint',\n",
       "       'Bushwick', 'Flatbush', 'Lower East Side',\n",
       "       'Prospect-Lefferts Gardens', 'Long Island City', 'Kips Bay',\n",
       "       'Clinton Hill', 'Washington Heights', 'Upper East Side',\n",
       "       'Woodside', 'Brooklyn Heights', 'Prospect Heights',\n",
       "       'Carroll Gardens', 'Gowanus', 'Flatlands', 'Cobble Hill',\n",
       "       'Flushing', 'Boerum Hill', 'Sunnyside', 'DUMBO', 'St. George',\n",
       "       'Highbridge', 'Financial District', 'Ridgewood',\n",
       "       'Morningside Heights', 'Middle Village', 'NoHo',\n",
       "       'Ditmars Steinway', 'Flatiron District', 'Roosevelt Island',\n",
       "       'Little Italy', 'East Flatbush', 'Tompkinsville', 'Astoria',\n",
       "       'Clason Point', 'Eastchester', 'Kingsbridge', 'Two Bridges',\n",
       "       'Queens Village', 'Rockaway Beach', 'Forest Hills', 'Nolita',\n",
       "       'Greenwich Village', 'Woodlawn', 'SoHo', 'University Heights',\n",
       "       'Gravesend', 'Gramercy', 'Allerton', 'East New York',\n",
       "       'Theater District', 'Concourse Village', 'Sheepshead Bay',\n",
       "       'Emerson Hill', 'Fort Hamilton', 'Bensonhurst', 'Tribeca',\n",
       "       'Shore Acres', 'Sunset Park', 'Concourse', 'Elmhurst',\n",
       "       'Brighton Beach', 'Jackson Heights', 'Cypress Hills', 'St. Albans',\n",
       "       'Arrochar', 'Rego Park', 'Wakefield', 'Clifton', 'Bay Ridge',\n",
       "       'Graniteville', 'Spuyten Duyvil', 'Stapleton', 'Briarwood',\n",
       "       'Ozone Park', 'Columbia St', 'Vinegar Hill', 'Mott Haven',\n",
       "       'Longwood', 'Canarsie', 'Jamaica', 'Battery Park City',\n",
       "       'Civic Center', 'East Elmhurst', 'New Springville',\n",
       "       'Morris Heights', 'Arverne', 'Cambria Heights', 'Tottenville',\n",
       "       'Mariners Harbor', 'Concord', 'Borough Park', 'Bayside',\n",
       "       'Downtown Brooklyn', 'Port Morris', 'Fieldston', 'Kew Gardens',\n",
       "       'Midwood', 'College Point', 'Mount Eden', 'City Island',\n",
       "       'Glendale', 'Port Richmond', 'Red Hook', 'Richmond Hill',\n",
       "       'Bellerose', 'Maspeth', 'Williamsbridge', 'Soundview', 'Woodhaven',\n",
       "       'Woodrow', 'Co-op City', 'Stuyvesant Town', 'Parkchester',\n",
       "       'North Riverdale', 'Dyker Heights', 'Bronxdale', 'Sea Gate',\n",
       "       'Riverdale', 'Kew Gardens Hills', 'Bay Terrace', 'Norwood',\n",
       "       'Claremont Village', 'Whitestone', 'Fordham', 'Bayswater',\n",
       "       'Navy Yard', 'Brownsville', 'Eltingville', 'Fresh Meadows',\n",
       "       'Mount Hope', 'Lighthouse Hill', 'Springfield Gardens',\n",
       "       'Howard Beach', 'Belle Harbor', 'Jamaica Estates', 'Van Nest',\n",
       "       'Morris Park', 'West Brighton', 'Far Rockaway', 'South Ozone Park',\n",
       "       'Tremont', 'Corona', 'Great Kills', 'Manhattan Beach',\n",
       "       'Marble Hill', 'Dongan Hills', 'Castleton Corners',\n",
       "       'East Morrisania', 'Hunts Point', 'Neponsit', 'Pelham Bay',\n",
       "       'Randall Manor', 'Throgs Neck', 'Todt Hill', 'West Farms',\n",
       "       'Silver Lake', 'Morrisania', 'Laurelton', 'Grymes Hill',\n",
       "       'Holliswood', 'Pelham Gardens', 'Belmont', 'Rosedale', 'Edgemere',\n",
       "       'New Brighton', 'Midland Beach', 'Baychester', 'Melrose',\n",
       "       'Bergen Beach', 'Richmondtown', 'Howland Hook', 'Schuylerville',\n",
       "       'Coney Island', 'New Dorp Beach', \"Prince's Bay\", 'South Beach',\n",
       "       'Bath Beach', 'Jamaica Hills', 'Oakwood', 'Castle Hill', 'Hollis',\n",
       "       'Douglaston', 'Huguenot', 'Olinville', 'Edenwald', 'Grant City',\n",
       "       'Westerleigh', 'Bay Terrace, Staten Island', 'Westchester Square',\n",
       "       'Little Neck', 'Fort Wadsworth', 'Rosebank', 'Unionport',\n",
       "       'Mill Basin', 'Arden Heights', \"Bull's Head\", 'New Dorp',\n",
       "       'Rossville', 'Breezy Point', 'Willowbrook'], dtype=object)"
      ]
     },
     "execution_count": 137,
     "metadata": {},
     "output_type": "execute_result"
    }
   ],
   "source": [
    "d[\"neighbourhood\"].unique()"
   ]
  },
  {
   "cell_type": "code",
   "execution_count": 413,
   "id": "1f128cf8-ad6d-4450-9f7d-109b9bec7267",
   "metadata": {},
   "outputs": [],
   "source": [
    "d[\"neighbourhood\"]=d[\"neighbourhood\"].str.capitalize()"
   ]
  },
  {
   "cell_type": "code",
   "execution_count": 414,
   "id": "be102a03-0c63-4acd-8a3e-289a5f917788",
   "metadata": {},
   "outputs": [],
   "source": [
    "d[\"neighbourhood\"]=d[\"neighbourhood\"].str.title()"
   ]
  },
  {
   "cell_type": "code",
   "execution_count": 140,
   "id": "ec727a3e-a96a-47dd-ae8c-816d7221900d",
   "metadata": {},
   "outputs": [
    {
     "data": {
      "text/plain": [
       "Index(['id', 'NAME', 'host id', 'host_identity_verified', 'host name',\n",
       "       'neighbourhood group', 'neighbourhood', 'lat', 'long', 'country',\n",
       "       'country code', 'instant_bookable', 'cancellation_policy', 'room type',\n",
       "       'Construction year', 'price', 'service fee', 'minimum nights',\n",
       "       'number of reviews', 'last review', 'reviews per month',\n",
       "       'review rate number', 'calculated host listings count',\n",
       "       'availability 365', 'house_rules', 'license'],\n",
       "      dtype='object')"
      ]
     },
     "execution_count": 140,
     "metadata": {},
     "output_type": "execute_result"
    }
   ],
   "source": [
    "d.columns"
   ]
  },
  {
   "cell_type": "code",
   "execution_count": 141,
   "id": "d1d00991-af91-4c03-982b-6465c5ab3154",
   "metadata": {},
   "outputs": [
    {
     "data": {
      "text/plain": [
       "id                                    0\n",
       "NAME                                  0\n",
       "host id                               0\n",
       "host_identity_verified              146\n",
       "host name                          2452\n",
       "neighbourhood group                  24\n",
       "neighbourhood                         0\n",
       "lat                                   8\n",
       "long                                  8\n",
       "country                              79\n",
       "country code                         68\n",
       "instant_bookable                     68\n",
       "cancellation_policy                  42\n",
       "room type                             0\n",
       "Construction year                   133\n",
       "price                                94\n",
       "service fee                          87\n",
       "minimum nights                      191\n",
       "number of reviews                    34\n",
       "last review                        5801\n",
       "reviews per month                  5787\n",
       "review rate number                  112\n",
       "calculated host listings count       83\n",
       "availability 365                    150\n",
       "house_rules                       12082\n",
       "license                           36370\n",
       "dtype: int64"
      ]
     },
     "execution_count": 141,
     "metadata": {},
     "output_type": "execute_result"
    }
   ],
   "source": [
    "d.isnull().sum()"
   ]
  },
  {
   "cell_type": "code",
   "execution_count": 415,
   "id": "0b6469d3-83dd-4c22-9ccb-acbbb10a2810",
   "metadata": {},
   "outputs": [],
   "source": [
    "d.dropna(subset=[\"lat\",\"long\"],inplace=True)\n"
   ]
  },
  {
   "cell_type": "code",
   "execution_count": 368,
   "id": "026e287f-0940-460a-83aa-9219a77ae855",
   "metadata": {},
   "outputs": [
    {
     "data": {
      "text/plain": [
       "lat     0\n",
       "long    0\n",
       "dtype: int64"
      ]
     },
     "execution_count": 368,
     "metadata": {},
     "output_type": "execute_result"
    }
   ],
   "source": [
    "d[[\"lat\",\"long\"]].isnull().sum()\n"
   ]
  },
  {
   "cell_type": "code",
   "execution_count": 416,
   "id": "14ffcd3a-306e-41e4-b8af-d528244ab9c7",
   "metadata": {},
   "outputs": [],
   "source": [
    "def rang(n):\n",
    "    if -90<n<90:\n",
    "        return n"
   ]
  },
  {
   "cell_type": "code",
   "execution_count": 417,
   "id": "ffe7df51-5dcb-45bd-be9f-b1ea4f78a617",
   "metadata": {},
   "outputs": [],
   "source": [
    "d[\"lat\"]=d[\"lat\"].apply(rang)"
   ]
  },
  {
   "cell_type": "code",
   "execution_count": 418,
   "id": "1b1b4500-af08-454b-8558-4ff821918d39",
   "metadata": {},
   "outputs": [
    {
     "data": {
      "text/plain": [
       "0        40.64749\n",
       "1        40.75362\n",
       "2        40.80902\n",
       "4        40.79851\n",
       "5        40.74767\n",
       "           ...   \n",
       "36734    40.71260\n",
       "36735    40.61023\n",
       "36736    40.80055\n",
       "36737    40.76869\n",
       "36738    40.66392\n",
       "Name: lat, Length: 36363, dtype: float64"
      ]
     },
     "execution_count": 418,
     "metadata": {},
     "output_type": "execute_result"
    }
   ],
   "source": [
    "d[\"lat\"]"
   ]
  },
  {
   "cell_type": "code",
   "execution_count": 423,
   "id": "bf990a24-afa6-464b-84fe-4f2a47c387e5",
   "metadata": {},
   "outputs": [
    {
     "data": {
      "text/plain": [
       "0       -73.97237\n",
       "1       -73.98377\n",
       "2       -73.94190\n",
       "4       -73.94399\n",
       "5       -73.97500\n",
       "           ...   \n",
       "36734   -73.93982\n",
       "36735   -73.99627\n",
       "36736   -73.95501\n",
       "36737   -73.95007\n",
       "36738   -73.95994\n",
       "Name: long, Length: 36363, dtype: float64"
      ]
     },
     "execution_count": 423,
     "metadata": {},
     "output_type": "execute_result"
    }
   ],
   "source": [
    "d[\"long\"]"
   ]
  },
  {
   "cell_type": "code",
   "execution_count": 420,
   "id": "47aecac9-215e-4e23-97ec-1f5521c77602",
   "metadata": {},
   "outputs": [],
   "source": [
    "def rrang(n):\n",
    "    if -180<n<180:\n",
    "        return n"
   ]
  },
  {
   "cell_type": "code",
   "execution_count": 422,
   "id": "856ca075-1126-4781-bf9f-933f485079c9",
   "metadata": {},
   "outputs": [],
   "source": [
    "d[\"long\"]=d[\"long\"].apply(rrang)"
   ]
  },
  {
   "cell_type": "code",
   "execution_count": 378,
   "id": "33a5534b-1fce-4704-9d7b-4ed64020f989",
   "metadata": {},
   "outputs": [
    {
     "data": {
      "text/plain": [
       "79"
      ]
     },
     "execution_count": 378,
     "metadata": {},
     "output_type": "execute_result"
    }
   ],
   "source": [
    "d[\"country\"].isnull().sum()"
   ]
  },
  {
   "cell_type": "code",
   "execution_count": 154,
   "id": "fee1ca6d-518e-42fb-913a-ca3690bccc81",
   "metadata": {},
   "outputs": [
    {
     "data": {
      "text/plain": [
       "array(['United States', nan], dtype=object)"
      ]
     },
     "execution_count": 154,
     "metadata": {},
     "output_type": "execute_result"
    }
   ],
   "source": [
    "d[\"country\"].unique()"
   ]
  },
  {
   "cell_type": "code",
   "execution_count": 424,
   "id": "e343f7c8-85ae-40b3-8007-0bd1395f9e49",
   "metadata": {},
   "outputs": [],
   "source": [
    "d.dropna(subset=[\"country\",\"country code\",\"instant_bookable\",\"cancellation_policy\"],inplace=True)"
   ]
  },
  {
   "cell_type": "code",
   "execution_count": 426,
   "id": "f3c4dc50-94be-4830-bcb8-c612635a8390",
   "metadata": {},
   "outputs": [
    {
     "data": {
      "text/plain": [
       "id                                    0\n",
       "NAME                                  0\n",
       "host id                               0\n",
       "host_identity_verified              142\n",
       "host name                          2452\n",
       "neighbourhood group                  23\n",
       "neighbourhood                         0\n",
       "lat                                   0\n",
       "long                                  0\n",
       "country                               0\n",
       "country code                          0\n",
       "instant_bookable                      0\n",
       "cancellation_policy                   0\n",
       "room type                             0\n",
       "Construction year                   128\n",
       "price                                90\n",
       "service fee                          83\n",
       "minimum nights                      186\n",
       "number of reviews                    34\n",
       "last review                        5789\n",
       "reviews per month                  5779\n",
       "review rate number                  101\n",
       "calculated host listings count       83\n",
       "availability 365                    145\n",
       "house_rules                       12048\n",
       "license                           36257\n",
       "dtype: int64"
      ]
     },
     "execution_count": 426,
     "metadata": {},
     "output_type": "execute_result"
    }
   ],
   "source": [
    "d.isnull().sum()"
   ]
  },
  {
   "cell_type": "code",
   "execution_count": 425,
   "id": "f0d1eafb-56c3-4cdd-863c-a6769919389e",
   "metadata": {},
   "outputs": [
    {
     "name": "stdout",
     "output_type": "stream",
     "text": [
      "<class 'pandas.core.frame.DataFrame'>\n",
      "Index: 36258 entries, 0 to 36738\n",
      "Data columns (total 26 columns):\n",
      " #   Column                          Non-Null Count  Dtype  \n",
      "---  ------                          --------------  -----  \n",
      " 0   id                              36258 non-null  int64  \n",
      " 1   NAME                            36258 non-null  object \n",
      " 2   host id                         36258 non-null  int64  \n",
      " 3   host_identity_verified          36116 non-null  object \n",
      " 4   host name                       33806 non-null  string \n",
      " 5   neighbourhood group             36235 non-null  object \n",
      " 6   neighbourhood                   36258 non-null  object \n",
      " 7   lat                             36258 non-null  float64\n",
      " 8   long                            36258 non-null  float64\n",
      " 9   country                         36258 non-null  object \n",
      " 10  country code                    36258 non-null  object \n",
      " 11  instant_bookable                36258 non-null  object \n",
      " 12  cancellation_policy             36258 non-null  object \n",
      " 13  room type                       36258 non-null  object \n",
      " 14  Construction year               36130 non-null  float64\n",
      " 15  price                           36168 non-null  object \n",
      " 16  service fee                     36175 non-null  object \n",
      " 17  minimum nights                  36072 non-null  float64\n",
      " 18  number of reviews               36224 non-null  float64\n",
      " 19  last review                     30469 non-null  object \n",
      " 20  reviews per month               30479 non-null  float64\n",
      " 21  review rate number              36157 non-null  float64\n",
      " 22  calculated host listings count  36175 non-null  float64\n",
      " 23  availability 365                36113 non-null  float64\n",
      " 24  house_rules                     24210 non-null  object \n",
      " 25  license                         1 non-null      object \n",
      "dtypes: float64(9), int64(2), object(14), string(1)\n",
      "memory usage: 7.5+ MB\n"
     ]
    }
   ],
   "source": [
    "d.info()"
   ]
  },
  {
   "cell_type": "code",
   "execution_count": 166,
   "id": "151e4050-8f30-4da8-a292-e7f6990860a5",
   "metadata": {},
   "outputs": [
    {
     "data": {
      "text/plain": [
       "0"
      ]
     },
     "execution_count": 166,
     "metadata": {},
     "output_type": "execute_result"
    }
   ],
   "source": [
    "d[\"room type\"].isnull().sum()"
   ]
  },
  {
   "cell_type": "code",
   "execution_count": 167,
   "id": "edff1a89-02c0-45f4-a9a2-183ebca6e95a",
   "metadata": {},
   "outputs": [
    {
     "data": {
      "text/plain": [
       "array(['Private room', 'Entire home/apt', 'Shared room'], dtype=object)"
      ]
     },
     "execution_count": 167,
     "metadata": {},
     "output_type": "execute_result"
    }
   ],
   "source": [
    "d[\"room type\"].unique()"
   ]
  },
  {
   "cell_type": "code",
   "execution_count": 427,
   "id": "04aea221-1af3-4831-89a6-0f43dbcd70bc",
   "metadata": {},
   "outputs": [],
   "source": [
    "def cap(m):\n",
    "    return m.title()\n"
   ]
  },
  {
   "cell_type": "code",
   "execution_count": 428,
   "id": "e7c07ebc-4d9e-42a4-a8a8-eca404471c5b",
   "metadata": {},
   "outputs": [],
   "source": [
    "d[\"room type\"]=d[\"room type\"].apply(cap)"
   ]
  },
  {
   "cell_type": "code",
   "execution_count": 171,
   "id": "a43b3bb3-d3cd-48a7-b22b-525f956b6847",
   "metadata": {},
   "outputs": [
    {
     "data": {
      "text/plain": [
       "array(['Private Room', 'Entire Home/Apt', 'Shared Room'], dtype=object)"
      ]
     },
     "execution_count": 171,
     "metadata": {},
     "output_type": "execute_result"
    }
   ],
   "source": [
    "d[\"room type\"].unique()"
   ]
  },
  {
   "cell_type": "code",
   "execution_count": 175,
   "id": "49c45d47-a85e-4151-ad84-cc07dde83870",
   "metadata": {},
   "outputs": [
    {
     "data": {
      "text/plain": [
       "array([2020., 2007., 2005., 2009., 2013., 2015., 2004., 2008., 2010.,\n",
       "       2019., 2018., 2016., 2003., 2011., 2012., 2017., 2006., 2022.,\n",
       "       2014., 2021.,   nan])"
      ]
     },
     "execution_count": 175,
     "metadata": {},
     "output_type": "execute_result"
    }
   ],
   "source": [
    "d[\"Construction year\"].unique()"
   ]
  },
  {
   "cell_type": "code",
   "execution_count": 176,
   "id": "62f5ad6f-1dc0-43ed-96be-5b29e24d6cc2",
   "metadata": {},
   "outputs": [
    {
     "data": {
      "text/plain": [
       "128"
      ]
     },
     "execution_count": 176,
     "metadata": {},
     "output_type": "execute_result"
    }
   ],
   "source": [
    "d[\"Construction year\"].isnull().sum()"
   ]
  },
  {
   "cell_type": "code",
   "execution_count": 429,
   "id": "c79907aa-0022-4c6e-a137-3448f3e89d15",
   "metadata": {},
   "outputs": [],
   "source": [
    "d.dropna(subset=[\"Construction year\"],inplace=True)"
   ]
  },
  {
   "cell_type": "code",
   "execution_count": 179,
   "id": "24a21cf7-2d6b-46b2-b69f-0eb2be0d6e48",
   "metadata": {},
   "outputs": [
    {
     "data": {
      "text/plain": [
       "0"
      ]
     },
     "execution_count": 179,
     "metadata": {},
     "output_type": "execute_result"
    }
   ],
   "source": [
    "d[\"Construction year\"].isnull().sum()"
   ]
  },
  {
   "cell_type": "code",
   "execution_count": 430,
   "id": "a3005620-ca12-4fcf-ac9a-afa393920bce",
   "metadata": {},
   "outputs": [],
   "source": [
    "d[\"Construction year\"]=d['Construction year'].astype(int)"
   ]
  },
  {
   "cell_type": "code",
   "execution_count": 184,
   "id": "ef1e7e3c-6c38-4f08-9930-cd3c9adce84f",
   "metadata": {},
   "outputs": [
    {
     "data": {
      "text/plain": [
       "array([2020, 2007, 2005, 2009, 2013, 2015, 2004, 2008, 2010, 2019, 2018,\n",
       "       2016, 2003, 2011, 2012, 2017, 2006, 2022, 2014, 2021])"
      ]
     },
     "execution_count": 184,
     "metadata": {},
     "output_type": "execute_result"
    }
   ],
   "source": [
    "d[\"Construction year\"].unique()"
   ]
  },
  {
   "cell_type": "code",
   "execution_count": 186,
   "id": "d53e99d3-4940-4283-94bb-fa5d1dc4eb2e",
   "metadata": {},
   "outputs": [
    {
     "data": {
      "text/plain": [
       "array(['$966 ', '$142 ', '$620 ', ..., '$905 ', '$309 ', '$770 '],\n",
       "      dtype=object)"
      ]
     },
     "execution_count": 186,
     "metadata": {},
     "output_type": "execute_result"
    }
   ],
   "source": [
    "d[\"price\"].unique()"
   ]
  },
  {
   "cell_type": "code",
   "execution_count": 441,
   "id": "f1d7ecf3-04b0-4c53-b346-24cef5a76d1b",
   "metadata": {},
   "outputs": [],
   "source": [
    "d.dropna(subset=[\"price\"],inplace=True)"
   ]
  },
  {
   "cell_type": "code",
   "execution_count": 442,
   "id": "4b93d8a9-de13-4348-90c6-ad668829e266",
   "metadata": {},
   "outputs": [
    {
     "data": {
      "text/plain": [
       "0"
      ]
     },
     "execution_count": 442,
     "metadata": {},
     "output_type": "execute_result"
    }
   ],
   "source": [
    "d[\"price\"].isnull().sum()"
   ]
  },
  {
   "cell_type": "code",
   "execution_count": 443,
   "id": "6d81454b-4a6f-4f97-be06-17f95cef77d0",
   "metadata": {},
   "outputs": [],
   "source": [
    "import re\n",
    "def clean(n):\n",
    "    a=re.findall(r\"\\d+\",str(n))\n",
    "    return a[0]"
   ]
  },
  {
   "cell_type": "code",
   "execution_count": 445,
   "id": "b8d0b64d-83cd-4f6b-a565-f301ebe4040a",
   "metadata": {},
   "outputs": [],
   "source": [
    "d[\"price\"]=d[\"price\"].apply(clean)"
   ]
  },
  {
   "cell_type": "code",
   "execution_count": 433,
   "id": "159d4bc4-398b-45c1-9917-e89b4ac019cd",
   "metadata": {},
   "outputs": [],
   "source": [
    "d[\"price\"]=d[\"price\"].str.replace(\",\",\"\")"
   ]
  },
  {
   "cell_type": "code",
   "execution_count": 434,
   "id": "f4992496-fb79-4114-a178-254772af4635",
   "metadata": {},
   "outputs": [
    {
     "data": {
      "text/plain": [
       "0         $966 \n",
       "1         $142 \n",
       "2         $620 \n",
       "4         $204 \n",
       "5         $577 \n",
       "          ...  \n",
       "36734     $172 \n",
       "36735     $458 \n",
       "36736    $1000 \n",
       "36737    $1165 \n",
       "36738    $1142 \n",
       "Name: price, Length: 36130, dtype: object"
      ]
     },
     "execution_count": 434,
     "metadata": {},
     "output_type": "execute_result"
    }
   ],
   "source": [
    "d[\"price\"]"
   ]
  },
  {
   "cell_type": "code",
   "execution_count": 460,
   "id": "b3932d21-5722-4683-aa2d-9528ca5762e8",
   "metadata": {},
   "outputs": [
    {
     "name": "stdout",
     "output_type": "stream",
     "text": [
      "<class 'pandas.core.frame.DataFrame'>\n",
      "Index: 35964 entries, 0 to 36737\n",
      "Data columns (total 26 columns):\n",
      " #   Column                          Non-Null Count  Dtype  \n",
      "---  ------                          --------------  -----  \n",
      " 0   id                              35964 non-null  int64  \n",
      " 1   NAME                            35964 non-null  object \n",
      " 2   host id                         35964 non-null  int64  \n",
      " 3   host_identity_verified          35838 non-null  object \n",
      " 4   host name                       33525 non-null  string \n",
      " 5   neighbourhood group             35945 non-null  object \n",
      " 6   neighbourhood                   35964 non-null  object \n",
      " 7   lat                             35964 non-null  float64\n",
      " 8   long                            35964 non-null  float64\n",
      " 9   country                         35964 non-null  object \n",
      " 10  country code                    35964 non-null  object \n",
      " 11  instant_bookable                35964 non-null  object \n",
      " 12  cancellation_policy             35964 non-null  object \n",
      " 13  room type                       35964 non-null  object \n",
      " 14  Construction year               35964 non-null  int32  \n",
      " 15  price                           35964 non-null  int32  \n",
      " 16  service fee                     35964 non-null  int32  \n",
      " 17  minimum nights                  35791 non-null  float64\n",
      " 18  number of reviews               35932 non-null  float64\n",
      " 19  last review                     30215 non-null  object \n",
      " 20  reviews per month               30221 non-null  float64\n",
      " 21  review rate number              35870 non-null  float64\n",
      " 22  calculated host listings count  35884 non-null  float64\n",
      " 23  availability 365                35832 non-null  float64\n",
      " 24  house_rules                     24009 non-null  object \n",
      " 25  license                         1 non-null      object \n",
      "dtypes: float64(8), int32(3), int64(2), object(12), string(1)\n",
      "memory usage: 7.0+ MB\n"
     ]
    }
   ],
   "source": [
    "d.info()"
   ]
  },
  {
   "cell_type": "code",
   "execution_count": 449,
   "id": "7f869db5-0ebd-414d-8fba-dba4125e2554",
   "metadata": {},
   "outputs": [],
   "source": [
    "d[\"price\"]=d[\"price\"].astype(int)"
   ]
  },
  {
   "cell_type": "code",
   "execution_count": 457,
   "id": "cb109bc8-8b6a-4df3-aaf1-b49b00cd16d2",
   "metadata": {},
   "outputs": [
    {
     "data": {
      "text/plain": [
       "array(['$193 ', '$28 ', '$124 ', '$41 ', '$115 ', '$14 ', '$212 ',\n",
       "       '$204 ', '$58 ', '$64 ', '$121 ', '$116 ', '$30 ', '$38 ', '$222 ',\n",
       "       '$219 ', '$202 ', '$113 ', '$74 ', '$137 ', '$171 ', '$12 ',\n",
       "       '$87 ', '$183 ', '$92 ', '$73 ', '$42 ', '$146 ', '$180 ', '$67 ',\n",
       "       '$51 ', '$181 ', '$88 ', '$165 ', '$129 ', '$207 ', '$17 ', '$63 ',\n",
       "       '$147 ', '$105 ', '$48 ', '$114 ', '$80 ', '$23 ', '$11 ', '$149 ',\n",
       "       '$213 ', '$211 ', '$182 ', '$117 ', '$39 ', '$25 ', '$216 ',\n",
       "       '$53 ', '$10 ', '$118 ', '$72 ', '$168 ', '$106 ', '$13 ', '$152 ',\n",
       "       '$126 ', '$135 ', '$46 ', '$199 ', '$158 ', '$221 ', '$132 ',\n",
       "       '$189 ', '$90 ', '$186 ', '$66 ', '$225 ', '$19 ', '$238 ',\n",
       "       '$119 ', '$98 ', '$34 ', '$227 ', '$32 ', '$101 ', '$77 ', '$190 ',\n",
       "       '$75 ', '$185 ', '$203 ', '$97 ', '$35 ', '$37 ', '$231 ', '$133 ',\n",
       "       '$82 ', '$120 ', '$21 ', '$145 ', '$65 ', '$100 ', '$144 ',\n",
       "       '$108 ', '$50 ', '$26 ', '$89 ', '$218 ', '$104 ', '$44 ', '$79 ',\n",
       "       '$163 ', '$22 ', '$131 ', '$102 ', '$240 ', '$215 ', '$191 ',\n",
       "       '$16 ', '$94 ', '$206 ', '$157 ', '$159 ', '$233 ', '$109 ',\n",
       "       '$15 ', '$229 ', '$179 ', '$85 ', '$136 ', '$170 ', '$201 ',\n",
       "       '$175 ', '$194 ', '$192 ', '$123 ', '$36 ', '$198 ', '$122 ',\n",
       "       '$208 ', '$140 ', '$148 ', '$68 ', '$196 ', '$70 ', '$228 ',\n",
       "       '$209 ', '$134 ', '$20 ', '$110 ', '$234 ', '$151 ', '$172 ',\n",
       "       '$107 ', '$138 ', '$139 ', '$217 ', '$31 ', '$156 ', '$86 ',\n",
       "       '$45 ', '$220 ', '$162 ', '$187 ', '$93 ', '$143 ', '$239 ',\n",
       "       '$184 ', '$161 ', '$200 ', '$33 ', '$83 ', '$91 ', '$55 ', '$128 ',\n",
       "       '$210 ', '$166 ', '$125 ', '$54 ', '$43 ', '$18 ', '$167 ',\n",
       "       '$236 ', '$69 ', '$111 ', '$142 ', '$24 ', '$141 ', '$223 ',\n",
       "       '$71 ', '$169 ', '$95 ', '$29 ', '$195 ', '$76 ', '$40 ', '$49 ',\n",
       "       '$232 ', '$205 ', '$153 ', '$27 ', '$52 ', '$197 ', '$164 ',\n",
       "       '$127 ', '$176 ', '$62 ', '$59 ', '$99 ', '$56 ', '$84 ', '$237 ',\n",
       "       '$178 ', '$103 ', '$224 ', '$130 ', '$47 ', '$155 ', '$57 ',\n",
       "       '$177 ', '$226 ', '$160 ', '$173 ', '$81 ', '$61 ', '$60 ',\n",
       "       '$235 ', '$154 ', '$96 ', '$214 ', '$150 ', '$78 ', '$230 ',\n",
       "       '$188 ', '$112 ', '$174 '], dtype=object)"
      ]
     },
     "execution_count": 457,
     "metadata": {},
     "output_type": "execute_result"
    }
   ],
   "source": [
    "d[\"service fee\"].unique()"
   ]
  },
  {
   "cell_type": "code",
   "execution_count": 454,
   "id": "5ba3bbc7-c68d-43c6-92e3-a7ee6b757cf0",
   "metadata": {},
   "outputs": [],
   "source": [
    "d.dropna(subset=[\"service fee\"],inplace=True)"
   ]
  },
  {
   "cell_type": "code",
   "execution_count": 455,
   "id": "a8f14e8b-7c5c-44d8-9b4a-6e2fc6c1fc41",
   "metadata": {},
   "outputs": [
    {
     "data": {
      "text/plain": [
       "0"
      ]
     },
     "execution_count": 455,
     "metadata": {},
     "output_type": "execute_result"
    }
   ],
   "source": [
    "d[\"service fee\"].isnull().sum()"
   ]
  },
  {
   "cell_type": "code",
   "execution_count": 458,
   "id": "012a24ef-5dc9-4b47-b19a-d923d9acc0c5",
   "metadata": {},
   "outputs": [],
   "source": [
    "d[\"service fee\"]=d[\"service fee\"].apply(clean)"
   ]
  },
  {
   "cell_type": "code",
   "execution_count": 459,
   "id": "356ae0e3-3a90-4dd6-98f0-0c055ac5ff2d",
   "metadata": {},
   "outputs": [],
   "source": [
    "d[\"service fee\"]=d[\"service fee\"].astype(int)"
   ]
  },
  {
   "cell_type": "code",
   "execution_count": 462,
   "id": "d9d1629e-410c-4656-8967-f409e2dced03",
   "metadata": {},
   "outputs": [
    {
     "data": {
      "text/plain": [
       "array([ 1.000e+01,  3.000e+01,  3.000e+00,  4.500e+01,  2.000e+00,\n",
       "        1.000e+00,  5.000e+00,  4.000e+00,  6.000e+01,  7.000e+00,\n",
       "        9.000e+00,  3.100e+01,  6.000e+00,  1.500e+01,  8.000e+00,\n",
       "        4.700e+01,  8.100e+01,  1.440e+02,  3.710e+02,  1.490e+02,\n",
       "        2.730e+02,  1.310e+02,  2.750e+02,  3.230e+02,  5.900e+01,\n",
       "        9.900e+01,  2.680e+02, -1.000e+01,  1.890e+02,  3.400e+02,\n",
       "        1.280e+02,  3.500e+02,  1.660e+02,  1.100e+02,  1.420e+02,\n",
       "        3.660e+02,  1.400e+01,  2.000e+02,  5.000e+01,  3.990e+02,\n",
       "        1.100e+01,  4.520e+02,  1.300e+01,  3.455e+03,  2.100e+01,\n",
       "        2.700e+01,  1.800e+01, -1.000e+00,  2.000e+01, -1.200e+01,\n",
       "        4.000e+01,  4.400e+01,  3.980e+02, -2.000e+00,  2.800e+01,\n",
       "        6.500e+01, -3.000e+00,  9.000e+01,  2.900e+01,  5.500e+01,\n",
       "        1.200e+02,  3.650e+02,  1.800e+02,  1.220e+02,  1.900e+01,\n",
       "        2.400e+02,  8.800e+01,  1.150e+02,  1.500e+02,  3.700e+02,\n",
       "        1.600e+01,  1.810e+02,  2.600e+01,  8.000e+01,  2.500e+01,\n",
       "        2.650e+02,  3.000e+02,  1.700e+01,  1.850e+02,  3.600e+02,\n",
       "        5.600e+01,  1.200e+01,  7.000e+01,  3.900e+01,  2.400e+01,\n",
       "        3.200e+01,  2.700e+02,  2.200e+01,  7.500e+01,  2.500e+02,\n",
       "        6.200e+01,  2.300e+01,  1.250e+03,  7.400e+01,  1.980e+02,\n",
       "        1.000e+02,  5.000e+02,  4.300e+01,  3.500e+01,  9.100e+01,\n",
       "        4.800e+02,  5.300e+01,  1.600e+02,  9.990e+02,  1.860e+02,\n",
       "        6.800e+01,  9.300e+01,  8.700e+01,  1.830e+02,  2.990e+02,\n",
       "        1.750e+02,  9.800e+01,  1.330e+02,  3.540e+02,  4.200e+01,\n",
       "        3.300e+01,  3.700e+01,  2.250e+02,  4.000e+02,  1.050e+02])"
      ]
     },
     "execution_count": 462,
     "metadata": {},
     "output_type": "execute_result"
    }
   ],
   "source": [
    "d[\"minimum nights\"].unique()"
   ]
  },
  {
   "cell_type": "code",
   "execution_count": 472,
   "id": "5fe21a4a-b10a-4445-b81c-67555ad33b30",
   "metadata": {},
   "outputs": [],
   "source": [
    "d.dropna(subset=\"minimum nights\",inplace=True)"
   ]
  },
  {
   "cell_type": "code",
   "execution_count": 465,
   "id": "6adf70a0-49b7-42da-8898-80a6fdfbe411",
   "metadata": {},
   "outputs": [],
   "source": [
    "d[\"minimum nights\"]=d[\"minimum nights\"].apply(positive)"
   ]
  },
  {
   "cell_type": "code",
   "execution_count": 473,
   "id": "256132ff-a366-4962-8178-355df2d010eb",
   "metadata": {},
   "outputs": [
    {
     "data": {
      "text/plain": [
       "0"
      ]
     },
     "execution_count": 473,
     "metadata": {},
     "output_type": "execute_result"
    }
   ],
   "source": [
    "d[\"minimum nights\"].isnull().sum()"
   ]
  },
  {
   "cell_type": "code",
   "execution_count": 475,
   "id": "d4df0a1c-723f-4963-b785-91569907b5aa",
   "metadata": {},
   "outputs": [],
   "source": [
    "d[\"minimum nights\"]=d[\"minimum nights\"].astype(int)"
   ]
  },
  {
   "cell_type": "code",
   "execution_count": 476,
   "id": "c59b5966-cb15-4f9d-bcd3-55b58337c38f",
   "metadata": {},
   "outputs": [
    {
     "name": "stdout",
     "output_type": "stream",
     "text": [
      "<class 'pandas.core.frame.DataFrame'>\n",
      "Index: 35785 entries, 0 to 36737\n",
      "Data columns (total 26 columns):\n",
      " #   Column                          Non-Null Count  Dtype  \n",
      "---  ------                          --------------  -----  \n",
      " 0   id                              35785 non-null  int64  \n",
      " 1   NAME                            35785 non-null  object \n",
      " 2   host id                         35785 non-null  int64  \n",
      " 3   host_identity_verified          35661 non-null  object \n",
      " 4   host name                       33351 non-null  string \n",
      " 5   neighbourhood group             35766 non-null  object \n",
      " 6   neighbourhood                   35785 non-null  object \n",
      " 7   lat                             35785 non-null  float64\n",
      " 8   long                            35785 non-null  float64\n",
      " 9   country                         35785 non-null  object \n",
      " 10  country code                    35785 non-null  object \n",
      " 11  instant_bookable                35785 non-null  object \n",
      " 12  cancellation_policy             35785 non-null  object \n",
      " 13  room type                       35785 non-null  object \n",
      " 14  Construction year               35785 non-null  int32  \n",
      " 15  price                           35785 non-null  int32  \n",
      " 16  service fee                     35785 non-null  int32  \n",
      " 17  minimum nights                  35785 non-null  int32  \n",
      " 18  number of reviews               35754 non-null  float64\n",
      " 19  last review                     30064 non-null  object \n",
      " 20  reviews per month               30066 non-null  float64\n",
      " 21  review rate number              35703 non-null  float64\n",
      " 22  calculated host listings count  35705 non-null  float64\n",
      " 23  availability 365                35670 non-null  float64\n",
      " 24  house_rules                     23885 non-null  object \n",
      " 25  license                         1 non-null      object \n",
      "dtypes: float64(7), int32(4), int64(2), object(12), string(1)\n",
      "memory usage: 6.8+ MB\n"
     ]
    }
   ],
   "source": [
    "d.info()"
   ]
  },
  {
   "cell_type": "code",
   "execution_count": 197,
   "id": "774c2022-0e96-4ac7-ac12-d46fd3ee0559",
   "metadata": {},
   "outputs": [
    {
     "data": {
      "text/plain": [
       "array([  9.,  45.,   0.,  74.,  49., 430., 118., 160.,  53., 167., 113.,\n",
       "        27., 168., 231., 214., 245.,  15.,  25.,  81.,  97.,  11., 248.,\n",
       "        61., 135., 112.,  73.,  82., 328.,  19., 105., 191.,   4., 338.,\n",
       "       148., 106., 190.,  23.,  21., 142., 143.,  54.,  70.,  16.,  94.,\n",
       "       194.,   2., 174.,  24., 166.,  29., 170., 334.,  12., 467.,   7.,\n",
       "        38., 324., 195.,  13.,  36.,  63., 155., 260., 193., 426., 227.,\n",
       "        84.,  nan,  10.,   1., 124., 240.,  30., 200.,  79.,  34.,  14.,\n",
       "        80., 294., 150.,  47., 219., 114., 213.,  86.,  18., 206., 122.,\n",
       "        52., 126.,  51., 199.,   3., 138., 204., 253., 115., 129.,  37.,\n",
       "        69., 192.,  17., 222., 205., 108., 458.,  41., 189.,  35., 171.,\n",
       "        92., 238.,  56., 111., 147., 177., 185.,  62., 181., 333., 441.,\n",
       "       203., 210.,  64.,   5., 132.,  20.,  67.,  93., 104., 127.,   6.,\n",
       "        48., 120.,  50.,  59.,  68.,  31., 198., 220., 286., 398.,  76.,\n",
       "       182.,   8.,  66.,  46., 218.,  42., 131., 136.,  43.,  98., 380.,\n",
       "       163., 247., 116.,  39., 403.,  22., 197., 414., 119., 175.,  88.,\n",
       "       117., 103.,  57., 188., 480., 101., 241.,  90.,  99., 271., 187.,\n",
       "        33., 179., 225., 401.,  72., 207., 273.,  58., 330., 123.,  55.,\n",
       "        87., 258., 128., 228., 152.,  32., 278., 235., 305., 102.,  83.,\n",
       "        89.,  65.,  40., 100., 125., 139., 242., 229., 107., 176., 151.,\n",
       "       178., 216., 233., 314., 153., 110.,  26., 244., 270.,  28., 130.,\n",
       "       208., 232., 121., 209.,  75.,  44., 158., 236., 215., 320.,  78.,\n",
       "       297., 202.,  77., 265., 156., 272., 268., 133., 165., 269., 243.,\n",
       "       134., 137., 145., 289., 339., 109., 454., 230., 154., 144., 439.,\n",
       "       261., 319., 162., 280., 184., 451., 169.,  60., 266., 251., 183.,\n",
       "       141., 304., 474.,  85., 221., 201., 321., 250., 254., 161., 323.,\n",
       "       347., 211., 296.,  96., 173., 295., 404., 326., 363., 146., 164.,\n",
       "       327., 237., 353.,  91., 302., 276., 186., 322., 267., 540., 224.,\n",
       "       291.,  71., 315., 313., 594., 597., 607., 157., 287., 159., 395.,\n",
       "       447., 226., 281., 356.,  95., 360., 279., 349., 246., 308., 292.,\n",
       "       140., 284., 374., 172., 196., 149., 212., 285., 274., 340., 386.,\n",
       "       336., 249., 275., 259., 252., 263., 298., 288., 234., 255., 365.,\n",
       "       257., 217., 488., 332., 358., 180., 277., 389., 372., 299., 239.,\n",
       "       394., 357., 223., 350., 352., 351., 262., 318., 307., 325., 282.,\n",
       "       396., 466., 397., 290., 448., 424., 408., 309., 543., 264., 629.,\n",
       "       576., 256., 459., 375., 412., 378., 411., 434., 510., 306., 392.,\n",
       "       417., 368., 436., 310., 341.])"
      ]
     },
     "execution_count": 197,
     "metadata": {},
     "output_type": "execute_result"
    }
   ],
   "source": [
    "d[\"number of reviews\"].unique()"
   ]
  },
  {
   "cell_type": "code",
   "execution_count": 477,
   "id": "4b135fa2-947d-4394-9ba7-fbf132a7940c",
   "metadata": {},
   "outputs": [],
   "source": [
    "def positive(n):\n",
    "    if n==0 or n>0:\n",
    "        return n"
   ]
  },
  {
   "cell_type": "code",
   "execution_count": 478,
   "id": "f7792ed5-11a3-45e9-95e4-527353b476cf",
   "metadata": {},
   "outputs": [],
   "source": [
    "d[\"number of reviews\"]=d[\"number of reviews\"].apply(positive)"
   ]
  },
  {
   "cell_type": "code",
   "execution_count": 479,
   "id": "37bac158-e1b0-488c-ae4c-8e15453c044d",
   "metadata": {},
   "outputs": [],
   "source": [
    "d.dropna(subset=[\"number of reviews\"],inplace=True)"
   ]
  },
  {
   "cell_type": "code",
   "execution_count": 480,
   "id": "3c81f26a-ed6d-495a-bdfc-af799ce50976",
   "metadata": {},
   "outputs": [
    {
     "data": {
      "text/plain": [
       "0"
      ]
     },
     "execution_count": 480,
     "metadata": {},
     "output_type": "execute_result"
    }
   ],
   "source": [
    "d[\"number of reviews\"].isnull().sum()"
   ]
  },
  {
   "cell_type": "code",
   "execution_count": 481,
   "id": "e9f1a832-bf8d-47bd-adf6-d88cfb3f937c",
   "metadata": {},
   "outputs": [],
   "source": [
    "d[\"number of reviews\"]=d[\"number of reviews\"].astype(int)"
   ]
  },
  {
   "cell_type": "code",
   "execution_count": 482,
   "id": "d4eacbb9-3cd4-4400-b090-15d6246a8aa6",
   "metadata": {},
   "outputs": [
    {
     "name": "stdout",
     "output_type": "stream",
     "text": [
      "<class 'pandas.core.frame.DataFrame'>\n",
      "Index: 35754 entries, 0 to 36737\n",
      "Data columns (total 26 columns):\n",
      " #   Column                          Non-Null Count  Dtype  \n",
      "---  ------                          --------------  -----  \n",
      " 0   id                              35754 non-null  int64  \n",
      " 1   NAME                            35754 non-null  object \n",
      " 2   host id                         35754 non-null  int64  \n",
      " 3   host_identity_verified          35630 non-null  object \n",
      " 4   host name                       33320 non-null  string \n",
      " 5   neighbourhood group             35735 non-null  object \n",
      " 6   neighbourhood                   35754 non-null  object \n",
      " 7   lat                             35754 non-null  float64\n",
      " 8   long                            35754 non-null  float64\n",
      " 9   country                         35754 non-null  object \n",
      " 10  country code                    35754 non-null  object \n",
      " 11  instant_bookable                35754 non-null  object \n",
      " 12  cancellation_policy             35754 non-null  object \n",
      " 13  room type                       35754 non-null  object \n",
      " 14  Construction year               35754 non-null  int32  \n",
      " 15  price                           35754 non-null  int32  \n",
      " 16  service fee                     35754 non-null  int32  \n",
      " 17  minimum nights                  35754 non-null  int32  \n",
      " 18  number of reviews               35754 non-null  int32  \n",
      " 19  last review                     30037 non-null  object \n",
      " 20  reviews per month               30039 non-null  float64\n",
      " 21  review rate number              35672 non-null  float64\n",
      " 22  calculated host listings count  35674 non-null  float64\n",
      " 23  availability 365                35639 non-null  float64\n",
      " 24  house_rules                     23866 non-null  object \n",
      " 25  license                         1 non-null      object \n",
      "dtypes: float64(6), int32(5), int64(2), object(12), string(1)\n",
      "memory usage: 6.7+ MB\n"
     ]
    }
   ],
   "source": [
    "d.info()"
   ]
  },
  {
   "cell_type": "code",
   "execution_count": 483,
   "id": "8f8f79f0-8177-4d03-b702-3eee6dd135aa",
   "metadata": {},
   "outputs": [
    {
     "data": {
      "text/plain": [
       "array(['10/19/2021', '5/21/2022', nan, ..., '12/23/2017', '1/29/2018',\n",
       "       '3/29/2018'], dtype=object)"
      ]
     },
     "execution_count": 483,
     "metadata": {},
     "output_type": "execute_result"
    }
   ],
   "source": [
    "d[\"last review\"].unique()"
   ]
  },
  {
   "cell_type": "code",
   "execution_count": 484,
   "id": "908e4f87-b346-4418-b47d-8a6420496c86",
   "metadata": {},
   "outputs": [
    {
     "data": {
      "text/plain": [
       "5717"
      ]
     },
     "execution_count": 484,
     "metadata": {},
     "output_type": "execute_result"
    }
   ],
   "source": [
    "d[\"last review\"].isnull().sum()"
   ]
  },
  {
   "cell_type": "code",
   "execution_count": 485,
   "id": "0138040f-8ada-4251-8bae-c76e2a9bc57f",
   "metadata": {},
   "outputs": [],
   "source": [
    "d.dropna(subset=[\"last review\"],inplace=True)"
   ]
  },
  {
   "cell_type": "code",
   "execution_count": 486,
   "id": "bfe37b37-fe95-4803-9e55-18f99a808b3c",
   "metadata": {},
   "outputs": [
    {
     "data": {
      "text/plain": [
       "0"
      ]
     },
     "execution_count": 486,
     "metadata": {},
     "output_type": "execute_result"
    }
   ],
   "source": [
    "d[\"last review\"].isnull().sum()"
   ]
  },
  {
   "cell_type": "code",
   "execution_count": 487,
   "id": "79ea85ad-0605-4069-953c-b8cbf2b470c7",
   "metadata": {},
   "outputs": [],
   "source": [
    "d[\"last review\"]=pd.to_datetime(d[\"last review\"])\n"
   ]
  },
  {
   "cell_type": "code",
   "execution_count": 488,
   "id": "9c7df558-cba5-464e-9428-32e93b014d8a",
   "metadata": {},
   "outputs": [
    {
     "data": {
      "text/plain": [
       "array([286., 228., 289., 374., 224., 219., 180., 375.,   1., 163.,  47.,\n",
       "        68.,  76., 416., 214., 110., 354.,  33., 405.,  86., 152.,  nan,\n",
       "        82.,  83., 258., 400.,  34., 203., 280., 417., 162., 169., 173.,\n",
       "       146., 243., 425., 113., 260., 395., 266.,  58., 410., 388.,  13.,\n",
       "        62., 334., 166.,  18., 130.,  43., 190., 335.,  52.,  70., 311.,\n",
       "       141.,  -1., 263., 200., 144., 320., 293., 240.,  96., 300., 332.,\n",
       "       138., 327., 361., 341., 353., 213.,  19.,  78., 188., 338.,  66.,\n",
       "       322.,  80., 382.,   0., 319.,  50., 118., 350.,  85., 248., 230.,\n",
       "       145., 267., 407., 206., 295.,  16., 351., 397., 276., 398., 135.,\n",
       "       315., 105.,  87., 189.,  81.,  42., 177., 245., 386., 247., 394.,\n",
       "       179., 312., 150., 419., 256., 380., 270.,  45., 336., 176., 379.,\n",
       "        35., 210., 264., 402.,  53., 252.,   5., 362., 238.,  61., 318.,\n",
       "       140., 107., 117.,  84., 291., 132., 325., 331., 283., 114., 376.,\n",
       "       211., 112., 296., 181., 193., 100., 231., 399.,  75., 182., 253.,\n",
       "       191., 414., 326., 389.,  -9.,   9., 147., 345., 186., 187., 268.,\n",
       "       209.,  88., 420., 369., 171.,  -4., 301., 129., 313., 292.,  30.,\n",
       "        97.,  95., 373., 236.,  -8., 251., 324.,  93., 103.,  91., 259.,\n",
       "       384., 122., 411.,   7.,  29., 265., 392., 175., 303., 233.,  -6.,\n",
       "        69., 119., 367., 239., 149.,  39., 387., 321., 302.,   3., 183.,\n",
       "         8., 297.,  32., 355., 250., 164.,  67., 109., 364., 372.,  -2.,\n",
       "       418., 365., 167., 178., 381.,  14., 370., 254., 396.,  73., 333.,\n",
       "       404.,  26.,  64., 246., 261.,  92., 142., 272.,  10., 212., 339.,\n",
       "        28., 309., 174., 232., 133.,  17., 287.,  27., 106., 316., 108.,\n",
       "       168., 278., 378., 125.,  57., 226.,  36., 139., 225., 205.,  -5.,\n",
       "       281., 244., 131., 137.,  25., 195.,  37., 104., 279., 201.,  11.,\n",
       "       116., 115., 274., 215., 134.,   6., 194., 294., 111., 217., 422.,\n",
       "       196., 220., 218., 393., 155.,  15.,  65., 158.,  79., 421., 185.,\n",
       "       408., 156.,  90.,   2., 275., 347., 192., 348., 330., 207., 310.,\n",
       "         4.,  98., 154.,  23., 357.,  44., 143., 299., 413., 282., 290.,\n",
       "       323., 221., 255., 406.,  38., 160.,  55., 249., 235., 202.,  72.,\n",
       "       277.,  21.,  74., 222., 409., 368.,  12., 352.,  60., 170., 241.,\n",
       "       328.,  41.,  89., 128., 121., 337., 356., 165., 197., 314., 198.,\n",
       "       423., 412., 358.,  59., 123., 229.,  -3., 385.,  77., 305., 237.,\n",
       "        20.,  24., 223., 307., 159., 359.,  22.,  71.,  99., 234., 271.,\n",
       "        46.,  31., 257., 227., 340., 285., 306., 273.,  51., 377.,  56.,\n",
       "       184., 208., 284., 136., 391.,  49., 151., 127., 343., 308., 148.,\n",
       "        63., 401.,  94., 124., 317., 304., 101., 204., 426., 161., 366.,\n",
       "       242., 298., 216.,  40., 363., 360., 344., 329., 157., 262., 383.,\n",
       "       153., 390., 172., 349., 346., 102., -10., 342.,  54., 403.,  48.,\n",
       "       199., 371., 269., 424., 126., 120., 288.,  -7., 415.])"
      ]
     },
     "execution_count": 488,
     "metadata": {},
     "output_type": "execute_result"
    }
   ],
   "source": [
    "d[\"availability 365\"].unique()"
   ]
  },
  {
   "cell_type": "code",
   "execution_count": 505,
   "id": "7d759a7a-10b8-4e4d-a2c1-94b75229d82d",
   "metadata": {},
   "outputs": [
    {
     "data": {
      "text/plain": [
       "0"
      ]
     },
     "execution_count": 505,
     "metadata": {},
     "output_type": "execute_result"
    }
   ],
   "source": [
    "d[\"availability 365\"].isnull().sum()"
   ]
  },
  {
   "cell_type": "code",
   "execution_count": 503,
   "id": "002b3818-ca93-47ac-b6f6-19359d39ef75",
   "metadata": {},
   "outputs": [],
   "source": [
    "d.dropna(subset=[\"availability 365\"],inplace=True)"
   ]
  },
  {
   "cell_type": "code",
   "execution_count": 504,
   "id": "fd9efb88-9a95-4cc1-a72f-a815aef19f73",
   "metadata": {},
   "outputs": [
    {
     "data": {
      "text/plain": [
       "0"
      ]
     },
     "execution_count": 504,
     "metadata": {},
     "output_type": "execute_result"
    }
   ],
   "source": [
    "d[\"availability 365\"].isnull().sum()"
   ]
  },
  {
   "cell_type": "code",
   "execution_count": 506,
   "id": "da8cc4de-aea6-4e66-9603-eacc35bc9655",
   "metadata": {},
   "outputs": [],
   "source": [
    "d[\"availability 365\"]=d[\"availability 365\"].astype(int)"
   ]
  },
  {
   "cell_type": "code",
   "execution_count": 507,
   "id": "1995dd10-fc3f-4d0d-9349-b960b16fbcb0",
   "metadata": {},
   "outputs": [],
   "source": [
    "d[\"availability 365\"]=d[d[\"availability 365\"].apply(lambda x:True if 0<x<365 else False)][\"availability 365\"]"
   ]
  },
  {
   "cell_type": "code",
   "execution_count": 508,
   "id": "3422ba57-ac29-4ddc-94d6-3cbe16a880cf",
   "metadata": {},
   "outputs": [],
   "source": [
    "d.dropna(subset=\"reviews per month\",inplace=True)"
   ]
  },
  {
   "cell_type": "code",
   "execution_count": 509,
   "id": "e859940f-c43e-40a8-8507-50fd074dee68",
   "metadata": {},
   "outputs": [],
   "source": [
    "d[\"reviews per month\"]=d[\"reviews per month\"].astype(int)"
   ]
  },
  {
   "cell_type": "code",
   "execution_count": 510,
   "id": "0dd66b4b-ccc0-4555-bbd2-52727bcaa846",
   "metadata": {},
   "outputs": [],
   "source": [
    "d[\"reviews per month\"]=d[\"reviews per month\"].apply(positive)"
   ]
  },
  {
   "cell_type": "code",
   "execution_count": 511,
   "id": "eac5aaca-629a-448d-bcd0-a5228aa9f66f",
   "metadata": {},
   "outputs": [
    {
     "data": {
      "text/plain": [
       "array([ 0,  3,  1,  2,  4,  6,  5, 10,  7,  8, 13,  9, 14, 11, 12, 16, 19,\n",
       "       17, 15], dtype=int64)"
      ]
     },
     "execution_count": 511,
     "metadata": {},
     "output_type": "execute_result"
    }
   ],
   "source": [
    "d[\"reviews per month\"].unique()"
   ]
  },
  {
   "cell_type": "code",
   "execution_count": 499,
   "id": "fdcdace0-c7bc-4229-9e1a-f387bbf05965",
   "metadata": {},
   "outputs": [],
   "source": [
    "d.drop(columns=[\"license\",\"house_rules\",\"calculated host listings count\",\"review rate number\",\"host_identity_verified\",\"neighbourhood group\"],inplace=True)"
   ]
  },
  {
   "cell_type": "code",
   "execution_count": 512,
   "id": "36b8297c-92b2-4ddf-b814-06bebf2c54d0",
   "metadata": {},
   "outputs": [
    {
     "name": "stdout",
     "output_type": "stream",
     "text": [
      "<class 'pandas.core.frame.DataFrame'>\n",
      "Index: 21674 entries, 0 to 36736\n",
      "Data columns (total 20 columns):\n",
      " #   Column               Non-Null Count  Dtype         \n",
      "---  ------               --------------  -----         \n",
      " 0   id                   21674 non-null  int64         \n",
      " 1   NAME                 21674 non-null  object        \n",
      " 2   host id              21674 non-null  int64         \n",
      " 3   host name            19896 non-null  string        \n",
      " 4   neighbourhood        21674 non-null  object        \n",
      " 5   lat                  21674 non-null  float64       \n",
      " 6   long                 21674 non-null  float64       \n",
      " 7   country              21674 non-null  object        \n",
      " 8   country code         21674 non-null  object        \n",
      " 9   instant_bookable     21674 non-null  object        \n",
      " 10  cancellation_policy  21674 non-null  object        \n",
      " 11  room type            21674 non-null  object        \n",
      " 12  Construction year    21674 non-null  int32         \n",
      " 13  price                21674 non-null  int32         \n",
      " 14  service fee          21674 non-null  int32         \n",
      " 15  minimum nights       21674 non-null  int32         \n",
      " 16  number of reviews    21674 non-null  int32         \n",
      " 17  last review          21674 non-null  datetime64[ns]\n",
      " 18  reviews per month    21674 non-null  int64         \n",
      " 19  availability 365     21674 non-null  int32         \n",
      "dtypes: datetime64[ns](1), float64(2), int32(6), int64(3), object(7), string(1)\n",
      "memory usage: 3.0+ MB\n"
     ]
    }
   ],
   "source": [
    "d.info()"
   ]
  },
  {
   "cell_type": "code",
   "execution_count": null,
   "id": "19e490a3-c9f1-4845-b4f6-6da38c7f7d00",
   "metadata": {},
   "outputs": [],
   "source": []
  }
 ],
 "metadata": {
  "kernelspec": {
   "display_name": "Python 3 (ipykernel)",
   "language": "python",
   "name": "python3"
  },
  "language_info": {
   "codemirror_mode": {
    "name": "ipython",
    "version": 3
   },
   "file_extension": ".py",
   "mimetype": "text/x-python",
   "name": "python",
   "nbconvert_exporter": "python",
   "pygments_lexer": "ipython3",
   "version": "3.11.5"
  }
 },
 "nbformat": 4,
 "nbformat_minor": 5
}
